{
 "cells": [
  {
   "cell_type": "code",
   "execution_count": 1,
   "metadata": {},
   "outputs": [],
   "source": [
    "import pandas as pd\n",
    "import matplotlib.pyplot as plt\n",
    "import numpy as np\n",
    "import seaborn as sns"
   ]
  },
  {
   "cell_type": "code",
   "execution_count": 2,
   "metadata": {},
   "outputs": [],
   "source": [
    "%store -r all_tweets"
   ]
  },
  {
   "cell_type": "markdown",
   "metadata": {},
   "source": [
    "**Keyword frequency and sentiment frequency analysis**"
   ]
  },
  {
   "cell_type": "code",
   "execution_count": 4,
   "metadata": {},
   "outputs": [],
   "source": [
    "#defiine a function to find out the keyword for each tweet\n",
    "def Keywords(x):\n",
    "    if 'trump' in x and 'biden' not in x:\n",
    "        return \"'trump'\"\n",
    "    if 'biden' in x and 'trump' not in x:\n",
    "        return \"'biden'\"\n",
    "    if 'trump' in x and 'biden' in x:\n",
    "        return \"'trump' and 'biden'\"\n",
    "    if 'trump' not in x and 'biden' not in x:\n",
    "        return \"no 'trump' or 'biden'\""
   ]
  },
  {
   "cell_type": "code",
   "execution_count": 5,
   "metadata": {},
   "outputs": [],
   "source": [
    "#create a column 'keyword' to label the keyword for each tweet\n",
    "all_tweets['keyword'] =  all_tweets['token'].map(lambda x: Keywords(x))"
   ]
  },
  {
   "cell_type": "code",
   "execution_count": 10,
   "metadata": {},
   "outputs": [
    {
     "data": {
      "image/png": "[encoded data removed]",
      "text/plain": [
       "<Figure size 1008x576 with 1 Axes>"
      ]
     },
     "metadata": {
      "needs_background": "light"
     },
     "output_type": "display_data"
    }
   ],
   "source": [
    "#visualization\n",
    "plt.figure(figsize=(14,8))\n",
    "\n",
    "sns.countplot(data = all_tweets, x = 'keyword' , hue = 'sentiment', palette = \"deep\")\n",
    "#sns.color_palette(\"pastel\")\n",
    "#plt.legend(labels=[])\n",
    "plt.ylabel(\"The number of tweets\")\n",
    "#plt.set_cmap(\"viridis\")\n",
    "plt.title(\"Tweets for each keyword with different sentiment types\")\n",
    "plt.savefig(\"plots/keywords and sentiment type.jpg\")"
   ]
  },
  {
   "cell_type": "markdown",
   "metadata": {},
   "source": [
    "**How sentiments varied across time?**"
   ]
  },
  {
   "cell_type": "code",
   "execution_count": 11,
   "metadata": {},
   "outputs": [
    {
     "name": "stderr",
     "output_type": "stream",
     "text": [
      "/opt/anaconda3/lib/python3.8/site-packages/pandas/util/_decorators.py:311: SettingWithCopyWarning: \n",
      "A value is trying to be set on a copy of a slice from a DataFrame\n",
      "\n",
      "See the caveats in the documentation: https://pandas.pydata.org/pandas-docs/stable/user_guide/indexing.html#returning-a-view-versus-a-copy\n",
      "  return func(*args, **kwargs)\n"
     ]
    },
    {
     "data": {
      "text/html": [
       "<div>\n",
       "<style scoped>\n",
       "    .dataframe tbody tr th:only-of-type {\n",
       "        vertical-align: middle;\n",
       "    }\n",
       "\n",
       "    .dataframe tbody tr th {\n",
       "        vertical-align: top;\n",
       "    }\n",
       "\n",
       "    .dataframe thead th {\n",
       "        text-align: right;\n",
       "    }\n",
       "</style>\n",
       "<table border=\"1\" class=\"dataframe\">\n",
       "  <thead>\n",
       "    <tr style=\"text-align: right;\">\n",
       "      <th></th>\n",
       "      <th>date</th>\n",
       "      <th>sentiment</th>\n",
       "    </tr>\n",
       "  </thead>\n",
       "  <tbody>\n",
       "    <tr>\n",
       "      <th>0</th>\n",
       "      <td>2020-10-24</td>\n",
       "      <td>Negative</td>\n",
       "    </tr>\n",
       "    <tr>\n",
       "      <th>39821</th>\n",
       "      <td>2020-10-24</td>\n",
       "      <td>Neutral</td>\n",
       "    </tr>\n",
       "    <tr>\n",
       "      <th>39820</th>\n",
       "      <td>2020-10-24</td>\n",
       "      <td>Neutral</td>\n",
       "    </tr>\n",
       "  </tbody>\n",
       "</table>\n",
       "</div>"
      ],
      "text/plain": [
       "             date sentiment\n",
       "0      2020-10-24  Negative\n",
       "39821  2020-10-24   Neutral\n",
       "39820  2020-10-24   Neutral"
      ]
     },
     "execution_count": 11,
     "metadata": {},
     "output_type": "execute_result"
    }
   ],
   "source": [
    "\n",
    "emotion_fluctuation_2020 = all_tweets[['date','sentiment']]\n",
    "#sort the tweets in a ascending order\n",
    "emotion_fluctuation_2020.sort_values(by = 'date', ascending = True, inplace = True)\n",
    "emotion_fluctuation_2020.head(3)"
   ]
  },
  {
   "cell_type": "code",
   "execution_count": 12,
   "metadata": {},
   "outputs": [
    {
     "name": "stderr",
     "output_type": "stream",
     "text": [
      "/var/folders/qm/j2nyw_6j7272_3cq86kpw75r0000gn/T/ipykernel_19383/3910137204.py:2: SettingWithCopyWarning: \n",
      "A value is trying to be set on a copy of a slice from a DataFrame.\n",
      "Try using .loc[row_indexer,col_indexer] = value instead\n",
      "\n",
      "See the caveats in the documentation: https://pandas.pydata.org/pandas-docs/stable/user_guide/indexing.html#returning-a-view-versus-a-copy\n",
      "  emotion_fluctuation_2020['date'] = pd.to_datetime(emotion_fluctuation_2020['date']).dt.date\n"
     ]
    }
   ],
   "source": [
    "#convert datetime column to date\n",
    "emotion_fluctuation_2020['date'] = pd.to_datetime(emotion_fluctuation_2020['date']).dt.date"
   ]
  },
  {
   "cell_type": "code",
   "execution_count": 13,
   "metadata": {},
   "outputs": [
    {
     "name": "stderr",
     "output_type": "stream",
     "text": [
      "/var/folders/qm/j2nyw_6j7272_3cq86kpw75r0000gn/T/ipykernel_19383/2692726054.py:1: SettingWithCopyWarning: \n",
      "A value is trying to be set on a copy of a slice from a DataFrame.\n",
      "Try using .loc[row_indexer,col_indexer] = value instead\n",
      "\n",
      "See the caveats in the documentation: https://pandas.pydata.org/pandas-docs/stable/user_guide/indexing.html#returning-a-view-versus-a-copy\n",
      "  emotion_fluctuation_2020['count'] = 1\n"
     ]
    },
    {
     "data": {
      "text/html": [
       "<div>\n",
       "<style scoped>\n",
       "    .dataframe tbody tr th:only-of-type {\n",
       "        vertical-align: middle;\n",
       "    }\n",
       "\n",
       "    .dataframe tbody tr th {\n",
       "        vertical-align: top;\n",
       "    }\n",
       "\n",
       "    .dataframe thead th {\n",
       "        text-align: right;\n",
       "    }\n",
       "</style>\n",
       "<table border=\"1\" class=\"dataframe\">\n",
       "  <thead>\n",
       "    <tr style=\"text-align: right;\">\n",
       "      <th></th>\n",
       "      <th>index</th>\n",
       "      <th>date</th>\n",
       "      <th>sentiment</th>\n",
       "      <th>count</th>\n",
       "    </tr>\n",
       "  </thead>\n",
       "  <tbody>\n",
       "    <tr>\n",
       "      <th>0</th>\n",
       "      <td>0</td>\n",
       "      <td>2020-10-24</td>\n",
       "      <td>Negative</td>\n",
       "      <td>1</td>\n",
       "    </tr>\n",
       "    <tr>\n",
       "      <th>1</th>\n",
       "      <td>39821</td>\n",
       "      <td>2020-10-24</td>\n",
       "      <td>Neutral</td>\n",
       "      <td>1</td>\n",
       "    </tr>\n",
       "    <tr>\n",
       "      <th>2</th>\n",
       "      <td>39820</td>\n",
       "      <td>2020-10-24</td>\n",
       "      <td>Neutral</td>\n",
       "      <td>1</td>\n",
       "    </tr>\n",
       "  </tbody>\n",
       "</table>\n",
       "</div>"
      ],
      "text/plain": [
       "   index        date sentiment  count\n",
       "0      0  2020-10-24  Negative      1\n",
       "1  39821  2020-10-24   Neutral      1\n",
       "2  39820  2020-10-24   Neutral      1"
      ]
     },
     "execution_count": 13,
     "metadata": {},
     "output_type": "execute_result"
    }
   ],
   "source": [
    "#prepare for counting sentiments \n",
    "emotion_fluctuation_2020['count'] = 1\n",
    "emotion_fluctuation_2020.reset_index(inplace=True)\n",
    "emotion_fluctuation_2020.head(3)"
   ]
  },
  {
   "cell_type": "code",
   "execution_count": 15,
   "metadata": {},
   "outputs": [
    {
     "data": {
      "text/plain": [
       "49493"
      ]
     },
     "execution_count": 15,
     "metadata": {},
     "output_type": "execute_result"
    }
   ],
   "source": [
    "#find out the index of the first tweet on 2021.1.6\n",
    "import datetime\n",
    "Jan_emotion = emotion_fluctuation_2020[emotion_fluctuation_2020['date']==datetime.date(2021,1,6)]\n",
    "pos = Jan_emotion.index[0]\n",
    "pos"
   ]
  },
  {
   "cell_type": "code",
   "execution_count": 16,
   "metadata": {},
   "outputs": [
    {
     "data": {
      "text/html": [
       "<div>\n",
       "<style scoped>\n",
       "    .dataframe tbody tr th:only-of-type {\n",
       "        vertical-align: middle;\n",
       "    }\n",
       "\n",
       "    .dataframe tbody tr th {\n",
       "        vertical-align: top;\n",
       "    }\n",
       "\n",
       "    .dataframe thead th {\n",
       "        text-align: right;\n",
       "    }\n",
       "</style>\n",
       "<table border=\"1\" class=\"dataframe\">\n",
       "  <thead>\n",
       "    <tr style=\"text-align: right;\">\n",
       "      <th></th>\n",
       "      <th>sentiment</th>\n",
       "      <th>count</th>\n",
       "    </tr>\n",
       "  </thead>\n",
       "  <tbody>\n",
       "    <tr>\n",
       "      <th>0</th>\n",
       "      <td>Negative</td>\n",
       "      <td>612</td>\n",
       "    </tr>\n",
       "    <tr>\n",
       "      <th>1</th>\n",
       "      <td>Neutral</td>\n",
       "      <td>1430</td>\n",
       "    </tr>\n",
       "    <tr>\n",
       "      <th>2</th>\n",
       "      <td>Positive</td>\n",
       "      <td>380</td>\n",
       "    </tr>\n",
       "  </tbody>\n",
       "</table>\n",
       "</div>"
      ],
      "text/plain": [
       "  sentiment  count\n",
       "0  Negative    612\n",
       "1   Neutral   1430\n",
       "2  Positive    380"
      ]
     },
     "execution_count": 16,
     "metadata": {},
     "output_type": "execute_result"
    }
   ],
   "source": [
    "#the number of sentiment\n",
    "Jan_emotion = Jan_emotion.groupby('sentiment').sum().reset_index()\n",
    "Jan_emotion.drop(columns = ['index'],inplace=True)\n",
    "Jan_emotion"
   ]
  },
  {
   "cell_type": "code",
   "execution_count": 17,
   "metadata": {},
   "outputs": [
    {
     "name": "stderr",
     "output_type": "stream",
     "text": [
      "/opt/anaconda3/lib/python3.8/site-packages/pandas/core/frame.py:4901: SettingWithCopyWarning: \n",
      "A value is trying to be set on a copy of a slice from a DataFrame\n",
      "\n",
      "See the caveats in the documentation: https://pandas.pydata.org/pandas-docs/stable/user_guide/indexing.html#returning-a-view-versus-a-copy\n",
      "  return super().drop(\n"
     ]
    }
   ],
   "source": [
    "emotion_series_2020 = emotion_fluctuation_2020.iloc[:pos, :]\n",
    "emotion_series_2020.drop(columns=['index'],inplace=True)"
   ]
  },
  {
   "cell_type": "code",
   "execution_count": 18,
   "metadata": {},
   "outputs": [
    {
     "data": {
      "text/html": [
       "<div>\n",
       "<style scoped>\n",
       "    .dataframe tbody tr th:only-of-type {\n",
       "        vertical-align: middle;\n",
       "    }\n",
       "\n",
       "    .dataframe tbody tr th {\n",
       "        vertical-align: top;\n",
       "    }\n",
       "\n",
       "    .dataframe thead th {\n",
       "        text-align: right;\n",
       "    }\n",
       "</style>\n",
       "<table border=\"1\" class=\"dataframe\">\n",
       "  <thead>\n",
       "    <tr style=\"text-align: right;\">\n",
       "      <th></th>\n",
       "      <th>date</th>\n",
       "      <th>sentiment</th>\n",
       "      <th>count</th>\n",
       "    </tr>\n",
       "  </thead>\n",
       "  <tbody>\n",
       "    <tr>\n",
       "      <th>0</th>\n",
       "      <td>2020-10-24</td>\n",
       "      <td>Negative</td>\n",
       "      <td>383</td>\n",
       "    </tr>\n",
       "    <tr>\n",
       "      <th>1</th>\n",
       "      <td>2020-10-24</td>\n",
       "      <td>Neutral</td>\n",
       "      <td>1400</td>\n",
       "    </tr>\n",
       "    <tr>\n",
       "      <th>2</th>\n",
       "      <td>2020-10-24</td>\n",
       "      <td>Positive</td>\n",
       "      <td>515</td>\n",
       "    </tr>\n",
       "    <tr>\n",
       "      <th>3</th>\n",
       "      <td>2020-10-25</td>\n",
       "      <td>Negative</td>\n",
       "      <td>341</td>\n",
       "    </tr>\n",
       "    <tr>\n",
       "      <th>4</th>\n",
       "      <td>2020-10-25</td>\n",
       "      <td>Neutral</td>\n",
       "      <td>1200</td>\n",
       "    </tr>\n",
       "  </tbody>\n",
       "</table>\n",
       "</div>"
      ],
      "text/plain": [
       "         date sentiment  count\n",
       "0  2020-10-24  Negative    383\n",
       "1  2020-10-24   Neutral   1400\n",
       "2  2020-10-24  Positive    515\n",
       "3  2020-10-25  Negative    341\n",
       "4  2020-10-25   Neutral   1200"
      ]
     },
     "execution_count": 18,
     "metadata": {},
     "output_type": "execute_result"
    }
   ],
   "source": [
    "emotion_series_2020 = emotion_series_2020.groupby(['date','sentiment']).sum().reset_index()\n",
    "emotion_series_2020.head()"
   ]
  },
  {
   "cell_type": "code",
   "execution_count": 19,
   "metadata": {},
   "outputs": [
    {
     "data": {
      "image/png": "[encoded data removed]",
      "text/plain": [
       "<Figure size 1008x576 with 1 Axes>"
      ]
     },
     "metadata": {
      "needs_background": "light"
     },
     "output_type": "display_data"
    }
   ],
   "source": [
    "#Visualization for time series of sentiment frequency\n",
    "import matplotlib.dates as mdates\n",
    "from datetime import datetime\n",
    "election_day = '2020-11-03'\n",
    "convert = datetime.strptime(election_day,'%Y-%m-%d')\n",
    "plt.figure(figsize=(14,8))\n",
    "plt.title('Sentiment frequency across time(2020-10-24 to 2020-11-14 UK Time)')\n",
    "sns.lineplot(x = 'date', y = 'count', hue = 'sentiment', data = emotion_series_2020)\n",
    "plt.gca().xaxis.set_major_locator(mdates.DayLocator(interval=3))\n",
    "plt.vlines(convert, 300, 1600,color=\"red\", linestyle=\"dashed\")\n",
    "plt.text(convert,1650,'Election Day')\n",
    "plt.savefig('plots/Sentiment frequency across time.jpg')"
   ]
  },
  {
   "cell_type": "code",
   "execution_count": 20,
   "metadata": {},
   "outputs": [
    {
     "data": {
      "text/html": [
       "<div>\n",
       "<style scoped>\n",
       "    .dataframe tbody tr th:only-of-type {\n",
       "        vertical-align: middle;\n",
       "    }\n",
       "\n",
       "    .dataframe tbody tr th {\n",
       "        vertical-align: top;\n",
       "    }\n",
       "\n",
       "    .dataframe thead th {\n",
       "        text-align: right;\n",
       "    }\n",
       "</style>\n",
       "<table border=\"1\" class=\"dataframe\">\n",
       "  <thead>\n",
       "    <tr style=\"text-align: right;\">\n",
       "      <th></th>\n",
       "      <th>index</th>\n",
       "      <th>date</th>\n",
       "      <th>tweet</th>\n",
       "      <th>language</th>\n",
       "      <th>user_id_str</th>\n",
       "      <th>username</th>\n",
       "      <th>docs</th>\n",
       "      <th>lemmatization</th>\n",
       "      <th>s_token</th>\n",
       "      <th>token</th>\n",
       "      <th>vader_tweets</th>\n",
       "      <th>sentiment</th>\n",
       "      <th>keyword</th>\n",
       "    </tr>\n",
       "  </thead>\n",
       "  <tbody>\n",
       "    <tr>\n",
       "      <th>0</th>\n",
       "      <td>0.0</td>\n",
       "      <td>2020-10-24</td>\n",
       "      <td>chikooslim i was thinking that since it was t...</td>\n",
       "      <td>en</td>\n",
       "      <td>18491914</td>\n",
       "      <td>slattfri</td>\n",
       "      <td>( , chikooslim, i, was, thinking, that, since,...</td>\n",
       "      <td>chikooslim I be think that since it be the d...</td>\n",
       "      <td>[chikooslim, I, be, think, that, since, it, be...</td>\n",
       "      <td>[chikooslim, I, think, since, daughter, refuse...</td>\n",
       "      <td>chikooslim I think since daughter refuse I ima...</td>\n",
       "      <td>Negative</td>\n",
       "      <td>'trump'</td>\n",
       "    </tr>\n",
       "    <tr>\n",
       "      <th>1</th>\n",
       "      <td>1.0</td>\n",
       "      <td>2020-10-24</td>\n",
       "      <td>he s been saying that for four years   alllies...</td>\n",
       "      <td>en</td>\n",
       "      <td>46384399</td>\n",
       "      <td>francesmiddlet2</td>\n",
       "      <td>(he, s, been, saying, that, for, four, years, ...</td>\n",
       "      <td>he s be say that for four year    alllie   tru...</td>\n",
       "      <td>[he, s, be, say, that, for, four, year, alllie...</td>\n",
       "      <td>[say, four, year, alllie, trumplie, time, narc...</td>\n",
       "      <td>say four year alllie trumplie time narcissist ...</td>\n",
       "      <td>Neutral</td>\n",
       "      <td>'trump'</td>\n",
       "    </tr>\n",
       "    <tr>\n",
       "      <th>2</th>\n",
       "      <td>2.0</td>\n",
       "      <td>2020-10-24</td>\n",
       "      <td>incredibly thought provoking article  make sur...</td>\n",
       "      <td>en</td>\n",
       "      <td>2902130034</td>\n",
       "      <td>mfly1971</td>\n",
       "      <td>(incredibly, thought, provoking, article,  , m...</td>\n",
       "      <td>incredibly think provoke article   make sure y...</td>\n",
       "      <td>[incredibly, think, provoke, article, make, su...</td>\n",
       "      <td>[incredibly, think, provoke, article, make, su...</td>\n",
       "      <td>incredibly think provoke article make sure rea...</td>\n",
       "      <td>Neutral</td>\n",
       "      <td>'trump'</td>\n",
       "    </tr>\n",
       "  </tbody>\n",
       "</table>\n",
       "</div>"
      ],
      "text/plain": [
       "   index        date                                              tweet  \\\n",
       "0    0.0  2020-10-24   chikooslim i was thinking that since it was t...   \n",
       "1    1.0  2020-10-24  he s been saying that for four years   alllies...   \n",
       "2    2.0  2020-10-24  incredibly thought provoking article  make sur...   \n",
       "\n",
       "  language  user_id_str         username  \\\n",
       "0       en     18491914         slattfri   \n",
       "1       en     46384399  francesmiddlet2   \n",
       "2       en   2902130034         mfly1971   \n",
       "\n",
       "                                                docs  \\\n",
       "0  ( , chikooslim, i, was, thinking, that, since,...   \n",
       "1  (he, s, been, saying, that, for, four, years, ...   \n",
       "2  (incredibly, thought, provoking, article,  , m...   \n",
       "\n",
       "                                       lemmatization  \\\n",
       "0    chikooslim I be think that since it be the d...   \n",
       "1  he s be say that for four year    alllie   tru...   \n",
       "2  incredibly think provoke article   make sure y...   \n",
       "\n",
       "                                             s_token  \\\n",
       "0  [chikooslim, I, be, think, that, since, it, be...   \n",
       "1  [he, s, be, say, that, for, four, year, alllie...   \n",
       "2  [incredibly, think, provoke, article, make, su...   \n",
       "\n",
       "                                               token  \\\n",
       "0  [chikooslim, I, think, since, daughter, refuse...   \n",
       "1  [say, four, year, alllie, trumplie, time, narc...   \n",
       "2  [incredibly, think, provoke, article, make, su...   \n",
       "\n",
       "                                        vader_tweets sentiment  keyword  \n",
       "0  chikooslim I think since daughter refuse I ima...  Negative  'trump'  \n",
       "1  say four year alllie trumplie time narcissist ...   Neutral  'trump'  \n",
       "2  incredibly think provoke article make sure rea...   Neutral  'trump'  "
      ]
     },
     "execution_count": 20,
     "metadata": {},
     "output_type": "execute_result"
    }
   ],
   "source": [
    "import datetime\n",
    "tweets_2020 = all_tweets\n",
    "tweets_2020['date'] = pd.to_datetime(all_tweets['date']).dt.date\n",
    "tweets_2020 = tweets_2020[tweets_2020['date']<datetime.date(2021,1,6)]\n",
    "tweets_2020.head(3)"
   ]
  },
  {
   "cell_type": "code",
   "execution_count": 21,
   "metadata": {},
   "outputs": [
    {
     "data": {
      "text/plain": [
       "49493"
      ]
     },
     "execution_count": 21,
     "metadata": {},
     "output_type": "execute_result"
    }
   ],
   "source": [
    "pos = len(tweets_2020)\n",
    "pos"
   ]
  },
  {
   "cell_type": "code",
   "execution_count": 22,
   "metadata": {},
   "outputs": [
    {
     "data": {
      "image/png": "[encoded data removed]",
      "text/plain": [
       "<Figure size 1008x576 with 1 Axes>"
      ]
     },
     "metadata": {
      "needs_background": "light"
     },
     "output_type": "display_data"
    }
   ],
   "source": [
    "count_sentiment = tweets_2020['sentiment'].value_counts()\n",
    "plt.figure(figsize=(14,8))\n",
    "x = np.arange(3)+1\n",
    "y = np.array(list(count_sentiment))\n",
    "xticks = list(count_sentiment.index)\n",
    "#ax = count_sentiment.plot(kind='bar', label='index', color=['C0', 'C1', 'C2'])\n",
    "plt.bar(x,y,width = 0.35,align='center',color = ['C0','C1','C2'],alpha=0.8)\n",
    "plt.xticks(x, xticks)\n",
    "plt.xlabel('Sentiment Type')\n",
    "plt.ylabel('The Number of Tweets')\n",
    "plt.title('The Number of Tweets of 3 Sentiment Types from 2020-10-24 to 2020-11-14 UK Time')\n",
    "for a,b in zip(x,y):\n",
    "    plt.text(a, b+0.05, '%.0f' % b, va= 'bottom',fontsize=10)\n",
    "plt.savefig(\"plots/sentiment frequency bar plot 2020.jpg\")\n",
    "plt.show()"
   ]
  },
  {
   "cell_type": "code",
   "execution_count": 23,
   "metadata": {},
   "outputs": [
    {
     "data": {
      "text/html": [
       "<div>\n",
       "<style scoped>\n",
       "    .dataframe tbody tr th:only-of-type {\n",
       "        vertical-align: middle;\n",
       "    }\n",
       "\n",
       "    .dataframe tbody tr th {\n",
       "        vertical-align: top;\n",
       "    }\n",
       "\n",
       "    .dataframe thead th {\n",
       "        text-align: right;\n",
       "    }\n",
       "</style>\n",
       "<table border=\"1\" class=\"dataframe\">\n",
       "  <thead>\n",
       "    <tr style=\"text-align: right;\">\n",
       "      <th></th>\n",
       "      <th>index</th>\n",
       "      <th>date</th>\n",
       "      <th>tweet</th>\n",
       "      <th>language</th>\n",
       "      <th>user_id_str</th>\n",
       "      <th>username</th>\n",
       "      <th>docs</th>\n",
       "      <th>lemmatization</th>\n",
       "      <th>s_token</th>\n",
       "      <th>token</th>\n",
       "      <th>vader_tweets</th>\n",
       "      <th>sentiment</th>\n",
       "      <th>keyword</th>\n",
       "    </tr>\n",
       "  </thead>\n",
       "  <tbody>\n",
       "    <tr>\n",
       "      <th>19526</th>\n",
       "      <td>21848.0</td>\n",
       "      <td>2021-01-06</td>\n",
       "      <td>what s their hurry   s thanks  joebiden   whit...</td>\n",
       "      <td>en</td>\n",
       "      <td>1431906776</td>\n",
       "      <td>JosiePhelix</td>\n",
       "      <td>(what, s, their, hurry,   , s, thanks,  , joeb...</td>\n",
       "      <td>what s their hurry    s thank   joebiden    wh...</td>\n",
       "      <td>[what, s, their, hurry, s, thank, joebiden, wh...</td>\n",
       "      <td>[hurry, thank, joebiden, white, fascist, privi...</td>\n",
       "      <td>hurry thank joebiden white fascist privilege n...</td>\n",
       "      <td>Negative</td>\n",
       "      <td>'trump'</td>\n",
       "    </tr>\n",
       "    <tr>\n",
       "      <th>19527</th>\n",
       "      <td>21849.0</td>\n",
       "      <td>2021-01-06</td>\n",
       "      <td>blm protesters were beat  and arrested for def...</td>\n",
       "      <td>en</td>\n",
       "      <td>51883389</td>\n",
       "      <td>EmilyEuans</td>\n",
       "      <td>(blm, protesters, were, beat,  , and, arrested...</td>\n",
       "      <td>blm protester be beat   and arrest for defy cu...</td>\n",
       "      <td>[blm, protester, be, beat, and, arrest, for, d...</td>\n",
       "      <td>[blm, protester, beat, arrest, defy, curfew, r...</td>\n",
       "      <td>blm protester beat arrest defy curfew rioting ...</td>\n",
       "      <td>Negative</td>\n",
       "      <td>'trump'</td>\n",
       "    </tr>\n",
       "    <tr>\n",
       "      <th>19528</th>\n",
       "      <td>21850.0</td>\n",
       "      <td>2021-01-06</td>\n",
       "      <td>trump waking up today</td>\n",
       "      <td>en</td>\n",
       "      <td>1016356135</td>\n",
       "      <td>littlepinkboots</td>\n",
       "      <td>(trump, waking, up, today,   )</td>\n",
       "      <td>trump wake up today</td>\n",
       "      <td>[trump, wake, up, today]</td>\n",
       "      <td>[trump, wake, today]</td>\n",
       "      <td>trump wake today</td>\n",
       "      <td>Neutral</td>\n",
       "      <td>'trump'</td>\n",
       "    </tr>\n",
       "  </tbody>\n",
       "</table>\n",
       "</div>"
      ],
      "text/plain": [
       "         index        date                                              tweet  \\\n",
       "19526  21848.0  2021-01-06  what s their hurry   s thanks  joebiden   whit...   \n",
       "19527  21849.0  2021-01-06  blm protesters were beat  and arrested for def...   \n",
       "19528  21850.0  2021-01-06                           trump waking up today      \n",
       "\n",
       "      language  user_id_str         username  \\\n",
       "19526       en   1431906776      JosiePhelix   \n",
       "19527       en     51883389       EmilyEuans   \n",
       "19528       en   1016356135  littlepinkboots   \n",
       "\n",
       "                                                    docs  \\\n",
       "19526  (what, s, their, hurry,   , s, thanks,  , joeb...   \n",
       "19527  (blm, protesters, were, beat,  , and, arrested...   \n",
       "19528                     (trump, waking, up, today,   )   \n",
       "\n",
       "                                           lemmatization  \\\n",
       "19526  what s their hurry    s thank   joebiden    wh...   \n",
       "19527  blm protester be beat   and arrest for defy cu...   \n",
       "19528                             trump wake up today      \n",
       "\n",
       "                                                 s_token  \\\n",
       "19526  [what, s, their, hurry, s, thank, joebiden, wh...   \n",
       "19527  [blm, protester, be, beat, and, arrest, for, d...   \n",
       "19528                           [trump, wake, up, today]   \n",
       "\n",
       "                                                   token  \\\n",
       "19526  [hurry, thank, joebiden, white, fascist, privi...   \n",
       "19527  [blm, protester, beat, arrest, defy, curfew, r...   \n",
       "19528                               [trump, wake, today]   \n",
       "\n",
       "                                            vader_tweets sentiment  keyword  \n",
       "19526  hurry thank joebiden white fascist privilege n...  Negative  'trump'  \n",
       "19527  blm protester beat arrest defy curfew rioting ...  Negative  'trump'  \n",
       "19528                                   trump wake today   Neutral  'trump'  "
      ]
     },
     "execution_count": 23,
     "metadata": {},
     "output_type": "execute_result"
    }
   ],
   "source": [
    "#sentiment frequency on vote count day 2021-01-06\n",
    "import datetime\n",
    "tweets_2021 = all_tweets\n",
    "tweets_2021['date'] = pd.to_datetime(all_tweets['date']).dt.date\n",
    "tweets_2021 = tweets_2021[tweets_2021['date']==datetime.date(2021,1,6)]\n",
    "tweets_2021.head(3)"
   ]
  },
  {
   "cell_type": "code",
   "execution_count": 24,
   "metadata": {},
   "outputs": [
    {
     "name": "stderr",
     "output_type": "stream",
     "text": [
      "/var/folders/qm/j2nyw_6j7272_3cq86kpw75r0000gn/T/ipykernel_19383/2355660017.py:1: SettingWithCopyWarning: \n",
      "A value is trying to be set on a copy of a slice from a DataFrame.\n",
      "Try using .loc[row_indexer,col_indexer] = value instead\n",
      "\n",
      "See the caveats in the documentation: https://pandas.pydata.org/pandas-docs/stable/user_guide/indexing.html#returning-a-view-versus-a-copy\n",
      "  tweets_2021['count'] = 1\n"
     ]
    },
    {
     "data": {
      "text/html": [
       "<div>\n",
       "<style scoped>\n",
       "    .dataframe tbody tr th:only-of-type {\n",
       "        vertical-align: middle;\n",
       "    }\n",
       "\n",
       "    .dataframe tbody tr th {\n",
       "        vertical-align: top;\n",
       "    }\n",
       "\n",
       "    .dataframe thead th {\n",
       "        text-align: right;\n",
       "    }\n",
       "</style>\n",
       "<table border=\"1\" class=\"dataframe\">\n",
       "  <thead>\n",
       "    <tr style=\"text-align: right;\">\n",
       "      <th></th>\n",
       "      <th>index</th>\n",
       "      <th>date</th>\n",
       "      <th>sentiment</th>\n",
       "      <th>count</th>\n",
       "    </tr>\n",
       "  </thead>\n",
       "  <tbody>\n",
       "    <tr>\n",
       "      <th>0</th>\n",
       "      <td>19526</td>\n",
       "      <td>2021-01-06</td>\n",
       "      <td>Negative</td>\n",
       "      <td>1</td>\n",
       "    </tr>\n",
       "    <tr>\n",
       "      <th>1</th>\n",
       "      <td>19527</td>\n",
       "      <td>2021-01-06</td>\n",
       "      <td>Negative</td>\n",
       "      <td>1</td>\n",
       "    </tr>\n",
       "    <tr>\n",
       "      <th>2</th>\n",
       "      <td>19528</td>\n",
       "      <td>2021-01-06</td>\n",
       "      <td>Neutral</td>\n",
       "      <td>1</td>\n",
       "    </tr>\n",
       "  </tbody>\n",
       "</table>\n",
       "</div>"
      ],
      "text/plain": [
       "   index        date sentiment  count\n",
       "0  19526  2021-01-06  Negative      1\n",
       "1  19527  2021-01-06  Negative      1\n",
       "2  19528  2021-01-06   Neutral      1"
      ]
     },
     "execution_count": 24,
     "metadata": {},
     "output_type": "execute_result"
    }
   ],
   "source": [
    "tweets_2021['count'] = 1\n",
    "tweets_2021 = tweets_2021[['date','sentiment','count']]\n",
    "tweets_2021.reset_index(inplace=True)\n",
    "tweets_2021.drop(columns=['index'])\n",
    "tweets_2021.head(3)"
   ]
  },
  {
   "cell_type": "code",
   "execution_count": 25,
   "metadata": {},
   "outputs": [
    {
     "data": {
      "text/html": [
       "<div>\n",
       "<style scoped>\n",
       "    .dataframe tbody tr th:only-of-type {\n",
       "        vertical-align: middle;\n",
       "    }\n",
       "\n",
       "    .dataframe tbody tr th {\n",
       "        vertical-align: top;\n",
       "    }\n",
       "\n",
       "    .dataframe thead th {\n",
       "        text-align: right;\n",
       "    }\n",
       "</style>\n",
       "<table border=\"1\" class=\"dataframe\">\n",
       "  <thead>\n",
       "    <tr style=\"text-align: right;\">\n",
       "      <th></th>\n",
       "      <th>sentiment</th>\n",
       "      <th>count</th>\n",
       "    </tr>\n",
       "  </thead>\n",
       "  <tbody>\n",
       "    <tr>\n",
       "      <th>0</th>\n",
       "      <td>Negative</td>\n",
       "      <td>612</td>\n",
       "    </tr>\n",
       "    <tr>\n",
       "      <th>1</th>\n",
       "      <td>Neutral</td>\n",
       "      <td>1430</td>\n",
       "    </tr>\n",
       "    <tr>\n",
       "      <th>2</th>\n",
       "      <td>Positive</td>\n",
       "      <td>380</td>\n",
       "    </tr>\n",
       "  </tbody>\n",
       "</table>\n",
       "</div>"
      ],
      "text/plain": [
       "  sentiment  count\n",
       "0  Negative    612\n",
       "1   Neutral   1430\n",
       "2  Positive    380"
      ]
     },
     "execution_count": 25,
     "metadata": {},
     "output_type": "execute_result"
    }
   ],
   "source": [
    "Jan_emotion = tweets_2021.groupby('sentiment').sum().reset_index()\n",
    "Jan_emotion.drop(columns = ['index'],inplace=True)\n",
    "Jan_emotion"
   ]
  },
  {
   "cell_type": "code",
   "execution_count": 43,
   "metadata": {},
   "outputs": [
    {
     "data": {
      "text/plain": [
       "[Text(0, 0, '612'), Text(0, 0, '1430'), Text(0, 0, '380')]"
      ]
     },
     "execution_count": 43,
     "metadata": {},
     "output_type": "execute_result"
    },
    {
     "data": {
      "image/png": "[encoded data removed]",
      "text/plain": [
       "<Figure size 1008x576 with 1 Axes>"
      ]
     },
     "metadata": {
      "needs_background": "light"
     },
     "output_type": "display_data"
    }
   ],
   "source": [
    "#Visualization for sentiment frequency on vote count day(2021.01.06)\n",
    "plt.figure(figsize=(14,8))\n",
    "plt.title('The Number of Tweets of 3 Sentiment Types on Vote Count day(2021-01-06)')\n",
    "ax = sns.barplot(x='sentiment',y='count',data=Jan_emotion)\n",
    "ax.bar_label(ax.containers[0])\n",
    "#plt.savefig('plots/Sentiment frequency on 2021-01-06.jpg')"
   ]
  },
  {
   "cell_type": "markdown",
   "metadata": {},
   "source": [
    "**Active Users Analysis**"
   ]
  },
  {
   "cell_type": "code",
   "execution_count": 27,
   "metadata": {},
   "outputs": [
    {
     "data": {
      "text/html": [
       "<div>\n",
       "<style scoped>\n",
       "    .dataframe tbody tr th:only-of-type {\n",
       "        vertical-align: middle;\n",
       "    }\n",
       "\n",
       "    .dataframe tbody tr th {\n",
       "        vertical-align: top;\n",
       "    }\n",
       "\n",
       "    .dataframe thead th {\n",
       "        text-align: right;\n",
       "    }\n",
       "</style>\n",
       "<table border=\"1\" class=\"dataframe\">\n",
       "  <thead>\n",
       "    <tr style=\"text-align: right;\">\n",
       "      <th></th>\n",
       "      <th>user_id_str</th>\n",
       "    </tr>\n",
       "  </thead>\n",
       "  <tbody>\n",
       "    <tr>\n",
       "      <th>37711670</th>\n",
       "      <td>69</td>\n",
       "    </tr>\n",
       "    <tr>\n",
       "      <th>2737655636</th>\n",
       "      <td>34</td>\n",
       "    </tr>\n",
       "    <tr>\n",
       "      <th>1318069609</th>\n",
       "      <td>34</td>\n",
       "    </tr>\n",
       "    <tr>\n",
       "      <th>1017141344559685632</th>\n",
       "      <td>31</td>\n",
       "    </tr>\n",
       "    <tr>\n",
       "      <th>1320798983640567808</th>\n",
       "      <td>30</td>\n",
       "    </tr>\n",
       "  </tbody>\n",
       "</table>\n",
       "</div>"
      ],
      "text/plain": [
       "                     user_id_str\n",
       "37711670                      69\n",
       "2737655636                    34\n",
       "1318069609                    34\n",
       "1017141344559685632           31\n",
       "1320798983640567808           30"
      ]
     },
     "execution_count": 27,
     "metadata": {},
     "output_type": "execute_result"
    }
   ],
   "source": [
    "#check how many users involved in this analysis and how many tweets they posted\n",
    "users = pd.DataFrame(all_tweets['user_id_str'].value_counts())\n",
    "users.head()"
   ]
  },
  {
   "cell_type": "code",
   "execution_count": 28,
   "metadata": {},
   "outputs": [
    {
     "data": {
      "text/html": [
       "<div>\n",
       "<style scoped>\n",
       "    .dataframe tbody tr th:only-of-type {\n",
       "        vertical-align: middle;\n",
       "    }\n",
       "\n",
       "    .dataframe tbody tr th {\n",
       "        vertical-align: top;\n",
       "    }\n",
       "\n",
       "    .dataframe thead th {\n",
       "        text-align: right;\n",
       "    }\n",
       "</style>\n",
       "<table border=\"1\" class=\"dataframe\">\n",
       "  <thead>\n",
       "    <tr style=\"text-align: right;\">\n",
       "      <th></th>\n",
       "      <th>user_id_str</th>\n",
       "      <th>frequency</th>\n",
       "    </tr>\n",
       "  </thead>\n",
       "  <tbody>\n",
       "    <tr>\n",
       "      <th>0</th>\n",
       "      <td>37711670</td>\n",
       "      <td>69</td>\n",
       "    </tr>\n",
       "    <tr>\n",
       "      <th>1</th>\n",
       "      <td>2737655636</td>\n",
       "      <td>34</td>\n",
       "    </tr>\n",
       "    <tr>\n",
       "      <th>2</th>\n",
       "      <td>1318069609</td>\n",
       "      <td>34</td>\n",
       "    </tr>\n",
       "  </tbody>\n",
       "</table>\n",
       "</div>"
      ],
      "text/plain": [
       "   user_id_str  frequency\n",
       "0     37711670         69\n",
       "1   2737655636         34\n",
       "2   1318069609         34"
      ]
     },
     "execution_count": 28,
     "metadata": {},
     "output_type": "execute_result"
    }
   ],
   "source": [
    "#update the columns\n",
    "users = users.reset_index()\n",
    "users.columns = ['user_id_str','frequency']\n",
    "users.head(3)"
   ]
  },
  {
   "cell_type": "code",
   "execution_count": 29,
   "metadata": {},
   "outputs": [
    {
     "data": {
      "text/html": [
       "<div>\n",
       "<style scoped>\n",
       "    .dataframe tbody tr th:only-of-type {\n",
       "        vertical-align: middle;\n",
       "    }\n",
       "\n",
       "    .dataframe tbody tr th {\n",
       "        vertical-align: top;\n",
       "    }\n",
       "\n",
       "    .dataframe thead th {\n",
       "        text-align: right;\n",
       "    }\n",
       "</style>\n",
       "<table border=\"1\" class=\"dataframe\">\n",
       "  <thead>\n",
       "    <tr style=\"text-align: right;\">\n",
       "      <th></th>\n",
       "      <th>user_id_str</th>\n",
       "      <th>frequency</th>\n",
       "    </tr>\n",
       "  </thead>\n",
       "  <tbody>\n",
       "    <tr>\n",
       "      <th>0</th>\n",
       "      <td>37711670</td>\n",
       "      <td>69</td>\n",
       "    </tr>\n",
       "    <tr>\n",
       "      <th>1</th>\n",
       "      <td>2737655636</td>\n",
       "      <td>34</td>\n",
       "    </tr>\n",
       "    <tr>\n",
       "      <th>2</th>\n",
       "      <td>1318069609</td>\n",
       "      <td>34</td>\n",
       "    </tr>\n",
       "    <tr>\n",
       "      <th>3</th>\n",
       "      <td>1017141344559685632</td>\n",
       "      <td>31</td>\n",
       "    </tr>\n",
       "    <tr>\n",
       "      <th>4</th>\n",
       "      <td>1320798983640567808</td>\n",
       "      <td>30</td>\n",
       "    </tr>\n",
       "  </tbody>\n",
       "</table>\n",
       "</div>"
      ],
      "text/plain": [
       "           user_id_str  frequency\n",
       "0             37711670         69\n",
       "1           2737655636         34\n",
       "2           1318069609         34\n",
       "3  1017141344559685632         31\n",
       "4  1320798983640567808         30"
      ]
     },
     "execution_count": 29,
     "metadata": {},
     "output_type": "execute_result"
    }
   ],
   "source": [
    "#If a user posted 20 or above tweets, he/she is seen as an active user\n",
    "active_users = users[users['frequency']>=20]\n",
    "active_users.head()"
   ]
  },
  {
   "cell_type": "code",
   "execution_count": 30,
   "metadata": {},
   "outputs": [
    {
     "name": "stdout",
     "output_type": "stream",
     "text": [
      "The number of users in total is  44622\n",
      "The number of active users(users who post more than 20 tweets) is  19\n",
      "The proportion of active users is 0.04%\n"
     ]
    }
   ],
   "source": [
    "#check what is the percentage of the active users towards total users\n",
    "active_user_proportion = (len(active_users)/len(users))*100\n",
    "print(\"The number of users in total is \",(len(users)))\n",
    "print(\"The number of active users(users who post more than 20 tweets) is \",(len(active_users)))\n",
    "print(\"The proportion of active users is {:.2f}%\".format(active_user_proportion))\n"
   ]
  },
  {
   "cell_type": "code",
   "execution_count": 31,
   "metadata": {},
   "outputs": [
    {
     "data": {
      "text/html": [
       "<div>\n",
       "<style scoped>\n",
       "    .dataframe tbody tr th:only-of-type {\n",
       "        vertical-align: middle;\n",
       "    }\n",
       "\n",
       "    .dataframe tbody tr th {\n",
       "        vertical-align: top;\n",
       "    }\n",
       "\n",
       "    .dataframe thead th {\n",
       "        text-align: right;\n",
       "    }\n",
       "</style>\n",
       "<table border=\"1\" class=\"dataframe\">\n",
       "  <thead>\n",
       "    <tr style=\"text-align: right;\">\n",
       "      <th></th>\n",
       "      <th>index</th>\n",
       "      <th>date</th>\n",
       "      <th>tweet</th>\n",
       "      <th>language</th>\n",
       "      <th>user_id_str</th>\n",
       "      <th>username</th>\n",
       "      <th>docs</th>\n",
       "      <th>lemmatization</th>\n",
       "      <th>s_token</th>\n",
       "      <th>token</th>\n",
       "      <th>vader_tweets</th>\n",
       "      <th>sentiment</th>\n",
       "      <th>keyword</th>\n",
       "      <th>frequency</th>\n",
       "    </tr>\n",
       "  </thead>\n",
       "  <tbody>\n",
       "    <tr>\n",
       "      <th>0</th>\n",
       "      <td>254.0</td>\n",
       "      <td>2020-10-24</td>\n",
       "      <td>trump and biden battle for swing states in fin...</td>\n",
       "      <td>en</td>\n",
       "      <td>3549429319</td>\n",
       "      <td>k29664911</td>\n",
       "      <td>(trump, and, biden, battle, for, swing, states...</td>\n",
       "      <td>trump and biden battle for swing state in fina...</td>\n",
       "      <td>[trump, and, biden, battle, for, swing, state,...</td>\n",
       "      <td>[trump, biden, battle, swing, state, final, st...</td>\n",
       "      <td>trump biden battle swing state final stretch e...</td>\n",
       "      <td>Neutral</td>\n",
       "      <td>'trump' and 'biden'</td>\n",
       "      <td>20</td>\n",
       "    </tr>\n",
       "    <tr>\n",
       "      <th>1</th>\n",
       "      <td>1242.0</td>\n",
       "      <td>2020-10-25</td>\n",
       "      <td>trump campaign requests nevada court halt earl...</td>\n",
       "      <td>en</td>\n",
       "      <td>3549429319</td>\n",
       "      <td>k29664911</td>\n",
       "      <td>(trump, campaign, requests, nevada, court, hal...</td>\n",
       "      <td>trump campaign request nevada court halt early...</td>\n",
       "      <td>[trump, campaign, request, nevada, court, halt...</td>\n",
       "      <td>[trump, campaign, request, nevada, court, halt...</td>\n",
       "      <td>trump campaign request nevada court halt early...</td>\n",
       "      <td>Neutral</td>\n",
       "      <td>'trump'</td>\n",
       "      <td>20</td>\n",
       "    </tr>\n",
       "    <tr>\n",
       "      <th>2</th>\n",
       "      <td>2119.0</td>\n",
       "      <td>2020-10-26</td>\n",
       "      <td>biden pushes back on trump s attacks in pennsy...</td>\n",
       "      <td>en</td>\n",
       "      <td>3549429319</td>\n",
       "      <td>k29664911</td>\n",
       "      <td>(biden, pushes, back, on, trump, s, attacks, i...</td>\n",
       "      <td>biden push back on trump s attack in pennsylva...</td>\n",
       "      <td>[biden, push, back, on, trump, s, attack, in, ...</td>\n",
       "      <td>[biden, push, back, trump, attack, pennsylvani...</td>\n",
       "      <td>biden push back trump attack pennsylvania I el...</td>\n",
       "      <td>Neutral</td>\n",
       "      <td>'trump' and 'biden'</td>\n",
       "      <td>20</td>\n",
       "    </tr>\n",
       "    <tr>\n",
       "      <th>3</th>\n",
       "      <td>2135.0</td>\n",
       "      <td>2020-10-26</td>\n",
       "      <td>trump s taxes  election and abortion cases awa...</td>\n",
       "      <td>en</td>\n",
       "      <td>3549429319</td>\n",
       "      <td>k29664911</td>\n",
       "      <td>(trump, s, taxes,  , election, and, abortion, ...</td>\n",
       "      <td>trump s taxis   election and abortion case awa...</td>\n",
       "      <td>[trump, s, taxis, election, and, abortion, cas...</td>\n",
       "      <td>[trump, taxis, election, abortion, case, await...</td>\n",
       "      <td>trump taxis election abortion case await amy c...</td>\n",
       "      <td>Neutral</td>\n",
       "      <td>'trump'</td>\n",
       "      <td>20</td>\n",
       "    </tr>\n",
       "    <tr>\n",
       "      <th>4</th>\n",
       "      <td>3398.0</td>\n",
       "      <td>2020-10-27</td>\n",
       "      <td>live  trump holds campaign rally in wisconsin ...</td>\n",
       "      <td>en</td>\n",
       "      <td>3549429319</td>\n",
       "      <td>k29664911</td>\n",
       "      <td>(live,  , trump, holds, campaign, rally, in, w...</td>\n",
       "      <td>live   trump hold campaign rally in wisconsin ...</td>\n",
       "      <td>[live, trump, hold, campaign, rally, in, wisco...</td>\n",
       "      <td>[live, trump, hold, campaign, rally, wisconsin...</td>\n",
       "      <td>live trump hold campaign rally wisconsin nbc n...</td>\n",
       "      <td>Neutral</td>\n",
       "      <td>'trump'</td>\n",
       "      <td>20</td>\n",
       "    </tr>\n",
       "  </tbody>\n",
       "</table>\n",
       "</div>"
      ],
      "text/plain": [
       "    index        date                                              tweet  \\\n",
       "0   254.0  2020-10-24  trump and biden battle for swing states in fin...   \n",
       "1  1242.0  2020-10-25  trump campaign requests nevada court halt earl...   \n",
       "2  2119.0  2020-10-26  biden pushes back on trump s attacks in pennsy...   \n",
       "3  2135.0  2020-10-26  trump s taxes  election and abortion cases awa...   \n",
       "4  3398.0  2020-10-27  live  trump holds campaign rally in wisconsin ...   \n",
       "\n",
       "  language  user_id_str   username  \\\n",
       "0       en   3549429319  k29664911   \n",
       "1       en   3549429319  k29664911   \n",
       "2       en   3549429319  k29664911   \n",
       "3       en   3549429319  k29664911   \n",
       "4       en   3549429319  k29664911   \n",
       "\n",
       "                                                docs  \\\n",
       "0  (trump, and, biden, battle, for, swing, states...   \n",
       "1  (trump, campaign, requests, nevada, court, hal...   \n",
       "2  (biden, pushes, back, on, trump, s, attacks, i...   \n",
       "3  (trump, s, taxes,  , election, and, abortion, ...   \n",
       "4  (live,  , trump, holds, campaign, rally, in, w...   \n",
       "\n",
       "                                       lemmatization  \\\n",
       "0  trump and biden battle for swing state in fina...   \n",
       "1  trump campaign request nevada court halt early...   \n",
       "2  biden push back on trump s attack in pennsylva...   \n",
       "3  trump s taxis   election and abortion case awa...   \n",
       "4  live   trump hold campaign rally in wisconsin ...   \n",
       "\n",
       "                                             s_token  \\\n",
       "0  [trump, and, biden, battle, for, swing, state,...   \n",
       "1  [trump, campaign, request, nevada, court, halt...   \n",
       "2  [biden, push, back, on, trump, s, attack, in, ...   \n",
       "3  [trump, s, taxis, election, and, abortion, cas...   \n",
       "4  [live, trump, hold, campaign, rally, in, wisco...   \n",
       "\n",
       "                                               token  \\\n",
       "0  [trump, biden, battle, swing, state, final, st...   \n",
       "1  [trump, campaign, request, nevada, court, halt...   \n",
       "2  [biden, push, back, trump, attack, pennsylvani...   \n",
       "3  [trump, taxis, election, abortion, case, await...   \n",
       "4  [live, trump, hold, campaign, rally, wisconsin...   \n",
       "\n",
       "                                        vader_tweets sentiment  \\\n",
       "0  trump biden battle swing state final stretch e...   Neutral   \n",
       "1  trump campaign request nevada court halt early...   Neutral   \n",
       "2  biden push back trump attack pennsylvania I el...   Neutral   \n",
       "3  trump taxis election abortion case await amy c...   Neutral   \n",
       "4  live trump hold campaign rally wisconsin nbc n...   Neutral   \n",
       "\n",
       "               keyword  frequency  \n",
       "0  'trump' and 'biden'         20  \n",
       "1              'trump'         20  \n",
       "2  'trump' and 'biden'         20  \n",
       "3              'trump'         20  \n",
       "4              'trump'         20  "
      ]
     },
     "execution_count": 31,
     "metadata": {},
     "output_type": "execute_result"
    }
   ],
   "source": [
    "#link the active_users_tweets and all_tweets to find out the keyword and sentiment for each tweet\n",
    "active_users_tweets = pd.merge(all_tweets, active_users, on = 'user_id_str')\n",
    "active_users_tweets.head()"
   ]
  },
  {
   "cell_type": "code",
   "execution_count": 32,
   "metadata": {},
   "outputs": [],
   "source": [
    "#drop the redundant column\n",
    "active_users_tweets = active_users_tweets.drop(columns=['frequency'])"
   ]
  },
  {
   "cell_type": "code",
   "execution_count": 33,
   "metadata": {
    "scrolled": true
   },
   "outputs": [
    {
     "data": {
      "image/png": "[encoded data removed]",
      "text/plain": [
       "<Figure size 432x432 with 1 Axes>"
      ]
     },
     "metadata": {},
     "output_type": "display_data"
    }
   ],
   "source": [
    "active_users_tweets['count'] = 1\n",
    "colors = sns.color_palette('deep')\n",
    "data = list(active_users_tweets.groupby('sentiment').sum()['count'])\n",
    "labels = ['Negative','Neutral','Positive']\n",
    "plt.figure(figsize=(6,6))\n",
    "plt.pie(data, labels = labels, colors = colors, autopct='%.1f%%')\n",
    "plt.legend()\n",
    "plt.title(\"Sentiment proportion of active users' tweets\")\n",
    "plt.savefig(\"plots/sentiment of active users tweets.jpg\")"
   ]
  },
  {
   "cell_type": "code",
   "execution_count": 46,
   "metadata": {},
   "outputs": [
    {
     "data": {
      "image/png": "[encoded data removed]",
      "text/plain": [
       "<Figure size 432x432 with 1 Axes>"
      ]
     },
     "metadata": {},
     "output_type": "display_data"
    }
   ],
   "source": [
    "all_tweets['count'] = 1\n",
    "colors = sns.color_palette('deep')\n",
    "data = list(all_tweets.groupby('sentiment').sum()['count'])\n",
    "labels = ['Negative','Neutral','Positive']\n",
    "plt.figure(figsize=(6,6))\n",
    "plt.pie(data, labels = labels, colors = colors, autopct='%.1f%%')\n",
    "plt.legend()\n",
    "plt.title(\"Sentiment proportion of collected tweets\")\n",
    "plt.savefig('plots/Sentiment proportion of collected tweets.jpg')"
   ]
  },
  {
   "cell_type": "code",
   "execution_count": 34,
   "metadata": {},
   "outputs": [
    {
     "name": "stdout",
     "output_type": "stream",
     "text": [
      "Stored 'active_users_tweets' (DataFrame)\n"
     ]
    }
   ],
   "source": [
    "%store active_users_tweets"
   ]
  },
  {
   "cell_type": "code",
   "execution_count": 35,
   "metadata": {
    "scrolled": true
   },
   "outputs": [
    {
     "data": {
      "image/png": "[encoded data removed]",
      "text/plain": [
       "<Figure size 1008x576 with 1 Axes>"
      ]
     },
     "metadata": {
      "needs_background": "light"
     },
     "output_type": "display_data"
    }
   ],
   "source": [
    "plt.figure(figsize=(14,8))\n",
    "\n",
    "sns.countplot(data = active_users_tweets, x = 'keyword' , hue = 'sentiment', palette = \"deep\")\n",
    "#sns.color_palette(\"pastel\")\n",
    "#plt.legend(labels=[])\n",
    "plt.ylabel(\"The number of tweets\")\n",
    "#plt.set_cmap(\"viridis\")\n",
    "plt.title(\"Active users' tweets for each keyword with different sentiment types\")\n",
    "plt.savefig('plots/Active users tweets keyword and sentiment frequency.jpg')"
   ]
  },
  {
   "cell_type": "code",
   "execution_count": null,
   "metadata": {},
   "outputs": [],
   "source": []
  }
 ],
 "metadata": {
  "kernelspec": {
   "display_name": "Python 3 (ipykernel)",
   "language": "python",
   "name": "python3"
  },
  "language_info": {
   "codemirror_mode": {
    "name": "ipython",
    "version": 3
   },
   "file_extension": ".py",
   "mimetype": "text/x-python",
   "name": "python",
   "nbconvert_exporter": "python",
   "pygments_lexer": "ipython3",
   "version": "3.8.5"
  }
 },
 "nbformat": 4,
 "nbformat_minor": 4
}
