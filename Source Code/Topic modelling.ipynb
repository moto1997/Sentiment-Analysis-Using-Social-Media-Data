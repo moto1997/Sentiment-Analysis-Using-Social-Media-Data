{
 "cells": [
  {
   "cell_type": "code",
   "execution_count": 1,
   "metadata": {},
   "outputs": [],
   "source": [
    "# Importing Packages\n",
    "import pandas as pd\n",
    "import numpy as np\n",
    "import re\n",
    "from time import time\n",
    "from sklearn.pipeline import Pipeline\n",
    "from sklearn.feature_extraction.text import CountVectorizer\n",
    "from sklearn.decomposition import LatentDirichletAllocation\n",
    "import matplotlib.pyplot as plt\n",
    "import pyLDAvis\n",
    "import pyLDAvis.sklearn"
   ]
  },
  {
   "cell_type": "code",
   "execution_count": 2,
   "metadata": {},
   "outputs": [
    {
     "name": "stderr",
     "output_type": "stream",
     "text": [
      "/opt/anaconda3/lib/python3.8/site-packages/h5py/__init__.py:46: DeprecationWarning: `np.typeDict` is a deprecated alias for `np.sctypeDict`.\n",
      "  from ._conv import register_converters as _register_converters\n"
     ]
    }
   ],
   "source": [
    "%store -r all_tweets"
   ]
  },
  {
   "cell_type": "code",
   "execution_count": 3,
   "metadata": {},
   "outputs": [
    {
     "data": {
      "text/html": [
       "<div>\n",
       "<style scoped>\n",
       "    .dataframe tbody tr th:only-of-type {\n",
       "        vertical-align: middle;\n",
       "    }\n",
       "\n",
       "    .dataframe tbody tr th {\n",
       "        vertical-align: top;\n",
       "    }\n",
       "\n",
       "    .dataframe thead th {\n",
       "        text-align: right;\n",
       "    }\n",
       "</style>\n",
       "<table border=\"1\" class=\"dataframe\">\n",
       "  <thead>\n",
       "    <tr style=\"text-align: right;\">\n",
       "      <th></th>\n",
       "      <th>index</th>\n",
       "      <th>date</th>\n",
       "      <th>tweet</th>\n",
       "      <th>language</th>\n",
       "      <th>user_id_str</th>\n",
       "      <th>username</th>\n",
       "      <th>docs</th>\n",
       "      <th>lemmatization</th>\n",
       "      <th>s_token</th>\n",
       "      <th>token</th>\n",
       "      <th>vader_tweets</th>\n",
       "      <th>sentiment</th>\n",
       "    </tr>\n",
       "  </thead>\n",
       "  <tbody>\n",
       "    <tr>\n",
       "      <th>0</th>\n",
       "      <td>0.0</td>\n",
       "      <td>2020-10-24</td>\n",
       "      <td>chikooslim i was thinking that since it was t...</td>\n",
       "      <td>en</td>\n",
       "      <td>18491914</td>\n",
       "      <td>slattfri</td>\n",
       "      <td>( , chikooslim, i, was, thinking, that, since,...</td>\n",
       "      <td>chikooslim I be think that since it be the d...</td>\n",
       "      <td>[chikooslim, I, be, think, that, since, it, be...</td>\n",
       "      <td>[chikooslim, I, think, since, daughter, refuse...</td>\n",
       "      <td>chikooslim I think since daughter refuse I ima...</td>\n",
       "      <td>Negative</td>\n",
       "    </tr>\n",
       "    <tr>\n",
       "      <th>1</th>\n",
       "      <td>1.0</td>\n",
       "      <td>2020-10-24</td>\n",
       "      <td>he s been saying that for four years   alllies...</td>\n",
       "      <td>en</td>\n",
       "      <td>46384399</td>\n",
       "      <td>francesmiddlet2</td>\n",
       "      <td>(he, s, been, saying, that, for, four, years, ...</td>\n",
       "      <td>he s be say that for four year    alllie   tru...</td>\n",
       "      <td>[he, s, be, say, that, for, four, year, alllie...</td>\n",
       "      <td>[say, four, year, alllie, trumplie, time, narc...</td>\n",
       "      <td>say four year alllie trumplie time narcissist ...</td>\n",
       "      <td>Neutral</td>\n",
       "    </tr>\n",
       "    <tr>\n",
       "      <th>2</th>\n",
       "      <td>2.0</td>\n",
       "      <td>2020-10-24</td>\n",
       "      <td>incredibly thought provoking article  make sur...</td>\n",
       "      <td>en</td>\n",
       "      <td>2902130034</td>\n",
       "      <td>mfly1971</td>\n",
       "      <td>(incredibly, thought, provoking, article,  , m...</td>\n",
       "      <td>incredibly think provoke article   make sure y...</td>\n",
       "      <td>[incredibly, think, provoke, article, make, su...</td>\n",
       "      <td>[incredibly, think, provoke, article, make, su...</td>\n",
       "      <td>incredibly think provoke article make sure rea...</td>\n",
       "      <td>Neutral</td>\n",
       "    </tr>\n",
       "  </tbody>\n",
       "</table>\n",
       "</div>"
      ],
      "text/plain": [
       "   index        date                                              tweet  \\\n",
       "0    0.0  2020-10-24   chikooslim i was thinking that since it was t...   \n",
       "1    1.0  2020-10-24  he s been saying that for four years   alllies...   \n",
       "2    2.0  2020-10-24  incredibly thought provoking article  make sur...   \n",
       "\n",
       "  language  user_id_str         username  \\\n",
       "0       en     18491914         slattfri   \n",
       "1       en     46384399  francesmiddlet2   \n",
       "2       en   2902130034         mfly1971   \n",
       "\n",
       "                                                docs  \\\n",
       "0  ( , chikooslim, i, was, thinking, that, since,...   \n",
       "1  (he, s, been, saying, that, for, four, years, ...   \n",
       "2  (incredibly, thought, provoking, article,  , m...   \n",
       "\n",
       "                                       lemmatization  \\\n",
       "0    chikooslim I be think that since it be the d...   \n",
       "1  he s be say that for four year    alllie   tru...   \n",
       "2  incredibly think provoke article   make sure y...   \n",
       "\n",
       "                                             s_token  \\\n",
       "0  [chikooslim, I, be, think, that, since, it, be...   \n",
       "1  [he, s, be, say, that, for, four, year, alllie...   \n",
       "2  [incredibly, think, provoke, article, make, su...   \n",
       "\n",
       "                                               token  \\\n",
       "0  [chikooslim, I, think, since, daughter, refuse...   \n",
       "1  [say, four, year, alllie, trumplie, time, narc...   \n",
       "2  [incredibly, think, provoke, article, make, su...   \n",
       "\n",
       "                                        vader_tweets sentiment  \n",
       "0  chikooslim I think since daughter refuse I ima...  Negative  \n",
       "1  say four year alllie trumplie time narcissist ...   Neutral  \n",
       "2  incredibly think provoke article make sure rea...   Neutral  "
      ]
     },
     "execution_count": 3,
     "metadata": {},
     "output_type": "execute_result"
    }
   ],
   "source": [
    "all_tweets.head(3)"
   ]
  },
  {
   "cell_type": "code",
   "execution_count": 5,
   "metadata": {},
   "outputs": [
    {
     "data": {
      "text/plain": [
       "Text(0.5, 1.0, 'Perplexity analysis of number of topics')"
      ]
     },
     "execution_count": 5,
     "metadata": {},
     "output_type": "execute_result"
    },
    {
     "data": {
      "image/png": "[encoded data removed]",
      "text/plain": [
       "<Figure size 432x288 with 1 Axes>"
      ]
     },
     "metadata": {
      "needs_background": "light"
     },
     "output_type": "display_data"
    }
   ],
   "source": [
    "#Selecting number of topics with perplexity\n",
    "perplexes = []\n",
    "vectorizer = CountVectorizer(stop_words='english',\n",
    "                             min_df = 3,\n",
    "                             strip_accents='unicode')\n",
    "corpus = vectorizer.fit_transform(all_tweets['vader_tweets'])\n",
    "for i in range(2,10,3):\n",
    "    model = LatentDirichletAllocation(n_components=i, \n",
    "                                      max_iter=25, \n",
    "                                      random_state=123,\n",
    "                                      n_jobs=-1)\n",
    "    model.fit(corpus)\n",
    "    perplexes.append(model.perplexity(corpus, sub_sampling=True))\n",
    "plt.plot(range(2,10,3), perplexes)\n",
    "plt.xlabel('The number of topics')\n",
    "plt.ylabel('Perplexity')\n",
    "plt.title('Perplexity analysis of number of topics')\n",
    "plt.savefig('plots/perplexity of the number of topics')"
   ]
  },
  {
   "cell_type": "code",
   "execution_count": 6,
   "metadata": {},
   "outputs": [
    {
     "data": {
      "text/plain": [
       "Pipeline(steps=[('count',\n",
       "                 CountVectorizer(min_df=3, stop_words='english',\n",
       "                                 strip_accents='unicode')),\n",
       "                ('lda',\n",
       "                 LatentDirichletAllocation(max_iter=50, n_components=4,\n",
       "                                           n_jobs=-1, random_state=123))])"
      ]
     },
     "execution_count": 6,
     "metadata": {},
     "output_type": "execute_result"
    }
   ],
   "source": [
    "# Setting up our pipeline\n",
    "model = Pipeline([('count', CountVectorizer(stop_words='english',\n",
    "                                            min_df=3,\n",
    "                                            strip_accents='unicode')),\n",
    "                  ('lda', LatentDirichletAllocation(n_components=4, \n",
    "                                                    max_iter=50, \n",
    "                                                    random_state=123, \n",
    "                                                    n_jobs=-1))])\n",
    "model.fit(all_tweets['vader_tweets'])"
   ]
  },
  {
   "cell_type": "code",
   "execution_count": 8,
   "metadata": {},
   "outputs": [
    {
     "name": "stdout",
     "output_type": "stream",
     "text": [
      "Topic 1: joebiden biden trump kamalaharris news hunter cnn say joe amp twitter medium watch video tweet thank like know fake fox\n",
      "Topic 2: biden trump president win joe realdonaldtrump say elect think year make like harris want obama people good know pay na\n",
      "Topic 3: election vote trump biden state win ballot count voter day bidenharris result poll electionday make amp mail voting fraud georgia\n",
      "Topic 4: trump election people realdonaldtrump vote like supporter say amp know america lie lose covid think right donald gop president american\n"
     ]
    }
   ],
   "source": [
    "#Displaying topics\n",
    "def display_topics(model, feature_names, no_top_words):\n",
    "    for topic_idx, topic in enumerate(model.components_):\n",
    "        print(\"Topic %d:\" % (topic_idx+1), end = ' ')\n",
    "        print(\" \".join([feature_names[i] for i in topic.argsort()[:-no_top_words - 1:-1]]))\n",
    "display_topics(model=model.named_steps['lda'], \n",
    "               feature_names=model.named_steps['count'].get_feature_names(),\n",
    "               no_top_words=20)"
   ]
  },
  {
   "cell_type": "code",
   "execution_count": 9,
   "metadata": {},
   "outputs": [
    {
     "data": {
      "text/plain": [
       "Pipeline(steps=[('count',\n",
       "                 CountVectorizer(min_df=3, stop_words='english',\n",
       "                                 strip_accents='unicode')),\n",
       "                ('lda',\n",
       "                 LatentDirichletAllocation(max_iter=50, n_components=3,\n",
       "                                           n_jobs=-1, random_state=123))])"
      ]
     },
     "execution_count": 9,
     "metadata": {},
     "output_type": "execute_result"
    }
   ],
   "source": [
    "# Setting up our pipeline\n",
    "model = Pipeline([('count', CountVectorizer(stop_words='english',\n",
    "                                            min_df=3,\n",
    "                                            strip_accents='unicode')),\n",
    "                  ('lda', LatentDirichletAllocation(n_components=3, \n",
    "                                                    max_iter=50, \n",
    "                                                    random_state=123, \n",
    "                                                    n_jobs=-1))])\n",
    "model.fit(all_tweets['vader_tweets'])"
   ]
  },
  {
   "cell_type": "code",
   "execution_count": 12,
   "metadata": {},
   "outputs": [
    {
     "name": "stdout",
     "output_type": "stream",
     "text": [
      "Topic 1: trump joebiden biden supporter like say joe kamalaharris realdonaldtrump news know medium lie hunter rally amp cnn watch tweet twitter\n",
      "Topic 2: trump biden president realdonaldtrump people win say joe like think year amp want make know donald lose america covid country\n",
      "Topic 3: election vote trump biden win state ballot voter day count fraud bidenharris result poll amp make electionday mail voting time\n"
     ]
    }
   ],
   "source": [
    "#Displaying topics\n",
    "def display_topics(model, feature_names, no_top_words):\n",
    "    for topic_idx, topic in enumerate(model.components_):\n",
    "        print(\"Topic %d:\" % (topic_idx+1), end = ' ')\n",
    "        print(\" \".join([feature_names[i] for i in topic.argsort()[:-no_top_words - 1:-1]]))\n",
    "display_topics(model=model.named_steps['lda'], \n",
    "               feature_names=model.named_steps['count'].get_feature_names(),\n",
    "               no_top_words=20)"
   ]
  },
  {
   "cell_type": "code",
   "execution_count": null,
   "metadata": {},
   "outputs": [],
   "source": []
  },
  {
   "cell_type": "code",
   "execution_count": null,
   "metadata": {},
   "outputs": [],
   "source": []
  }
 ],
 "metadata": {
  "kernelspec": {
   "display_name": "Python 3 (ipykernel)",
   "language": "python",
   "name": "python3"
  },
  "language_info": {
   "codemirror_mode": {
    "name": "ipython",
    "version": 3
   },
   "file_extension": ".py",
   "mimetype": "text/x-python",
   "name": "python",
   "nbconvert_exporter": "python",
   "pygments_lexer": "ipython3",
   "version": "3.8.5"
  }
 },
 "nbformat": 4,
 "nbformat_minor": 4
}
