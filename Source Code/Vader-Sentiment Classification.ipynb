{
 "cells": [
  {
   "cell_type": "code",
   "execution_count": 1,
   "metadata": {},
   "outputs": [],
   "source": [
    "import pandas as pd\n",
    "from vaderSentiment.vaderSentiment import SentimentIntensityAnalyzer\n",
    "import nltk"
   ]
  },
  {
   "cell_type": "code",
   "execution_count": 2,
   "metadata": {},
   "outputs": [],
   "source": [
    "%store -r all_tweets"
   ]
  },
  {
   "cell_type": "code",
   "execution_count": 4,
   "metadata": {},
   "outputs": [],
   "source": [
    "all_tweets['vader_tweets']  = all_tweets['token'].map(lambda y: \" \".join([token for token in y]))"
   ]
  },
  {
   "cell_type": "code",
   "execution_count": 10,
   "metadata": {},
   "outputs": [
    {
     "data": {
      "text/html": [
       "<div>\n",
       "<style scoped>\n",
       "    .dataframe tbody tr th:only-of-type {\n",
       "        vertical-align: middle;\n",
       "    }\n",
       "\n",
       "    .dataframe tbody tr th {\n",
       "        vertical-align: top;\n",
       "    }\n",
       "\n",
       "    .dataframe thead th {\n",
       "        text-align: right;\n",
       "    }\n",
       "</style>\n",
       "<table border=\"1\" class=\"dataframe\">\n",
       "  <thead>\n",
       "    <tr style=\"text-align: right;\">\n",
       "      <th></th>\n",
       "      <th>index</th>\n",
       "      <th>date</th>\n",
       "      <th>tweet</th>\n",
       "      <th>language</th>\n",
       "      <th>user_id_str</th>\n",
       "      <th>username</th>\n",
       "      <th>docs</th>\n",
       "      <th>lemmatization</th>\n",
       "      <th>s_token</th>\n",
       "      <th>token</th>\n",
       "      <th>vader_tweets</th>\n",
       "    </tr>\n",
       "  </thead>\n",
       "  <tbody>\n",
       "    <tr>\n",
       "      <th>0</th>\n",
       "      <td>0.0</td>\n",
       "      <td>2020-10-24</td>\n",
       "      <td>chikooslim i was thinking that since it was t...</td>\n",
       "      <td>en</td>\n",
       "      <td>18491914</td>\n",
       "      <td>slattfri</td>\n",
       "      <td>( , chikooslim, i, was, thinking, that, since,...</td>\n",
       "      <td>chikooslim I be think that since it be the d...</td>\n",
       "      <td>[chikooslim, I, be, think, that, since, it, be...</td>\n",
       "      <td>[chikooslim, I, think, since, daughter, refuse...</td>\n",
       "      <td>chikooslim I think since daughter refuse I ima...</td>\n",
       "    </tr>\n",
       "    <tr>\n",
       "      <th>1</th>\n",
       "      <td>1.0</td>\n",
       "      <td>2020-10-24</td>\n",
       "      <td>he s been saying that for four years   alllies...</td>\n",
       "      <td>en</td>\n",
       "      <td>46384399</td>\n",
       "      <td>francesmiddlet2</td>\n",
       "      <td>(he, s, been, saying, that, for, four, years, ...</td>\n",
       "      <td>he s be say that for four year    alllie   tru...</td>\n",
       "      <td>[he, s, be, say, that, for, four, year, alllie...</td>\n",
       "      <td>[say, four, year, alllie, trumplie, time, narc...</td>\n",
       "      <td>say four year alllie trumplie time narcissist ...</td>\n",
       "    </tr>\n",
       "    <tr>\n",
       "      <th>2</th>\n",
       "      <td>2.0</td>\n",
       "      <td>2020-10-24</td>\n",
       "      <td>incredibly thought provoking article  make sur...</td>\n",
       "      <td>en</td>\n",
       "      <td>2902130034</td>\n",
       "      <td>mfly1971</td>\n",
       "      <td>(incredibly, thought, provoking, article,  , m...</td>\n",
       "      <td>incredibly think provoke article   make sure y...</td>\n",
       "      <td>[incredibly, think, provoke, article, make, su...</td>\n",
       "      <td>[incredibly, think, provoke, article, make, su...</td>\n",
       "      <td>incredibly think provoke article make sure rea...</td>\n",
       "    </tr>\n",
       "  </tbody>\n",
       "</table>\n",
       "</div>"
      ],
      "text/plain": [
       "   index        date                                              tweet  \\\n",
       "0    0.0  2020-10-24   chikooslim i was thinking that since it was t...   \n",
       "1    1.0  2020-10-24  he s been saying that for four years   alllies...   \n",
       "2    2.0  2020-10-24  incredibly thought provoking article  make sur...   \n",
       "\n",
       "  language  user_id_str         username  \\\n",
       "0       en     18491914         slattfri   \n",
       "1       en     46384399  francesmiddlet2   \n",
       "2       en   2902130034         mfly1971   \n",
       "\n",
       "                                                docs  \\\n",
       "0  ( , chikooslim, i, was, thinking, that, since,...   \n",
       "1  (he, s, been, saying, that, for, four, years, ...   \n",
       "2  (incredibly, thought, provoking, article,  , m...   \n",
       "\n",
       "                                       lemmatization  \\\n",
       "0    chikooslim I be think that since it be the d...   \n",
       "1  he s be say that for four year    alllie   tru...   \n",
       "2  incredibly think provoke article   make sure y...   \n",
       "\n",
       "                                             s_token  \\\n",
       "0  [chikooslim, I, be, think, that, since, it, be...   \n",
       "1  [he, s, be, say, that, for, four, year, alllie...   \n",
       "2  [incredibly, think, provoke, article, make, su...   \n",
       "\n",
       "                                               token  \\\n",
       "0  [chikooslim, I, think, since, daughter, refuse...   \n",
       "1  [say, four, year, alllie, trumplie, time, narc...   \n",
       "2  [incredibly, think, provoke, article, make, su...   \n",
       "\n",
       "                                        vader_tweets  \n",
       "0  chikooslim I think since daughter refuse I ima...  \n",
       "1  say four year alllie trumplie time narcissist ...  \n",
       "2  incredibly think provoke article make sure rea...  "
      ]
     },
     "execution_count": 10,
     "metadata": {},
     "output_type": "execute_result"
    }
   ],
   "source": [
    "all_tweets.head(3)"
   ]
  },
  {
   "cell_type": "code",
   "execution_count": 13,
   "metadata": {},
   "outputs": [],
   "source": [
    "sentiment_analyzer = SentimentIntensityAnalyzer()"
   ]
  },
  {
   "cell_type": "code",
   "execution_count": 14,
   "metadata": {},
   "outputs": [],
   "source": [
    "def SentimentType(s):\n",
    "    scores_dict = sentiment_analyzer.polarity_scores(s)\n",
    "    if scores_dict['compound']>=0.5:\n",
    "        return 'Positive'\n",
    "    elif scores_dict['compound']<=-0.5:\n",
    "        return 'Negative'\n",
    "    else:\n",
    "        return 'Neutral'\n",
    "    "
   ]
  },
  {
   "cell_type": "code",
   "execution_count": 15,
   "metadata": {},
   "outputs": [],
   "source": [
    "all_tweets['sentiment'] = all_tweets['vader_tweets'].map(lambda s: SentimentType(s))"
   ]
  },
  {
   "cell_type": "code",
   "execution_count": 16,
   "metadata": {},
   "outputs": [
    {
     "data": {
      "text/html": [
       "<div>\n",
       "<style scoped>\n",
       "    .dataframe tbody tr th:only-of-type {\n",
       "        vertical-align: middle;\n",
       "    }\n",
       "\n",
       "    .dataframe tbody tr th {\n",
       "        vertical-align: top;\n",
       "    }\n",
       "\n",
       "    .dataframe thead th {\n",
       "        text-align: right;\n",
       "    }\n",
       "</style>\n",
       "<table border=\"1\" class=\"dataframe\">\n",
       "  <thead>\n",
       "    <tr style=\"text-align: right;\">\n",
       "      <th></th>\n",
       "      <th>index</th>\n",
       "      <th>date</th>\n",
       "      <th>tweet</th>\n",
       "      <th>language</th>\n",
       "      <th>user_id_str</th>\n",
       "      <th>username</th>\n",
       "      <th>docs</th>\n",
       "      <th>lemmatization</th>\n",
       "      <th>s_token</th>\n",
       "      <th>token</th>\n",
       "      <th>vader_tweets</th>\n",
       "      <th>sentiment</th>\n",
       "    </tr>\n",
       "  </thead>\n",
       "  <tbody>\n",
       "    <tr>\n",
       "      <th>0</th>\n",
       "      <td>0.0</td>\n",
       "      <td>2020-10-24</td>\n",
       "      <td>chikooslim i was thinking that since it was t...</td>\n",
       "      <td>en</td>\n",
       "      <td>18491914</td>\n",
       "      <td>slattfri</td>\n",
       "      <td>( , chikooslim, i, was, thinking, that, since,...</td>\n",
       "      <td>chikooslim I be think that since it be the d...</td>\n",
       "      <td>[chikooslim, I, be, think, that, since, it, be...</td>\n",
       "      <td>[chikooslim, I, think, since, daughter, refuse...</td>\n",
       "      <td>chikooslim I think since daughter refuse I ima...</td>\n",
       "      <td>Negative</td>\n",
       "    </tr>\n",
       "    <tr>\n",
       "      <th>1</th>\n",
       "      <td>1.0</td>\n",
       "      <td>2020-10-24</td>\n",
       "      <td>he s been saying that for four years   alllies...</td>\n",
       "      <td>en</td>\n",
       "      <td>46384399</td>\n",
       "      <td>francesmiddlet2</td>\n",
       "      <td>(he, s, been, saying, that, for, four, years, ...</td>\n",
       "      <td>he s be say that for four year    alllie   tru...</td>\n",
       "      <td>[he, s, be, say, that, for, four, year, alllie...</td>\n",
       "      <td>[say, four, year, alllie, trumplie, time, narc...</td>\n",
       "      <td>say four year alllie trumplie time narcissist ...</td>\n",
       "      <td>Neutral</td>\n",
       "    </tr>\n",
       "    <tr>\n",
       "      <th>2</th>\n",
       "      <td>2.0</td>\n",
       "      <td>2020-10-24</td>\n",
       "      <td>incredibly thought provoking article  make sur...</td>\n",
       "      <td>en</td>\n",
       "      <td>2902130034</td>\n",
       "      <td>mfly1971</td>\n",
       "      <td>(incredibly, thought, provoking, article,  , m...</td>\n",
       "      <td>incredibly think provoke article   make sure y...</td>\n",
       "      <td>[incredibly, think, provoke, article, make, su...</td>\n",
       "      <td>[incredibly, think, provoke, article, make, su...</td>\n",
       "      <td>incredibly think provoke article make sure rea...</td>\n",
       "      <td>Neutral</td>\n",
       "    </tr>\n",
       "  </tbody>\n",
       "</table>\n",
       "</div>"
      ],
      "text/plain": [
       "   index        date                                              tweet  \\\n",
       "0    0.0  2020-10-24   chikooslim i was thinking that since it was t...   \n",
       "1    1.0  2020-10-24  he s been saying that for four years   alllies...   \n",
       "2    2.0  2020-10-24  incredibly thought provoking article  make sur...   \n",
       "\n",
       "  language  user_id_str         username  \\\n",
       "0       en     18491914         slattfri   \n",
       "1       en     46384399  francesmiddlet2   \n",
       "2       en   2902130034         mfly1971   \n",
       "\n",
       "                                                docs  \\\n",
       "0  ( , chikooslim, i, was, thinking, that, since,...   \n",
       "1  (he, s, been, saying, that, for, four, years, ...   \n",
       "2  (incredibly, thought, provoking, article,  , m...   \n",
       "\n",
       "                                       lemmatization  \\\n",
       "0    chikooslim I be think that since it be the d...   \n",
       "1  he s be say that for four year    alllie   tru...   \n",
       "2  incredibly think provoke article   make sure y...   \n",
       "\n",
       "                                             s_token  \\\n",
       "0  [chikooslim, I, be, think, that, since, it, be...   \n",
       "1  [he, s, be, say, that, for, four, year, alllie...   \n",
       "2  [incredibly, think, provoke, article, make, su...   \n",
       "\n",
       "                                               token  \\\n",
       "0  [chikooslim, I, think, since, daughter, refuse...   \n",
       "1  [say, four, year, alllie, trumplie, time, narc...   \n",
       "2  [incredibly, think, provoke, article, make, su...   \n",
       "\n",
       "                                        vader_tweets sentiment  \n",
       "0  chikooslim I think since daughter refuse I ima...  Negative  \n",
       "1  say four year alllie trumplie time narcissist ...   Neutral  \n",
       "2  incredibly think provoke article make sure rea...   Neutral  "
      ]
     },
     "execution_count": 16,
     "metadata": {},
     "output_type": "execute_result"
    }
   ],
   "source": [
    "all_tweets.head(3)"
   ]
  },
  {
   "cell_type": "code",
   "execution_count": 17,
   "metadata": {},
   "outputs": [
    {
     "name": "stdout",
     "output_type": "stream",
     "text": [
      "Stored 'all_tweets' (DataFrame)\n"
     ]
    }
   ],
   "source": [
    "%store all_tweets"
   ]
  },
  {
   "cell_type": "code",
   "execution_count": 7,
   "metadata": {},
   "outputs": [
    {
     "data": {
      "text/plain": [
       "trump s tax evasion tactics                             "
      ]
     },
     "execution_count": 7,
     "metadata": {},
     "output_type": "execute_result"
    }
   ],
   "source": [
    "all_tweets['docs'][7]"
   ]
  },
  {
   "cell_type": "code",
   "execution_count": null,
   "metadata": {},
   "outputs": [],
   "source": []
  }
 ],
 "metadata": {
  "kernelspec": {
   "display_name": "Python 3 (ipykernel)",
   "language": "python",
   "name": "python3"
  },
  "language_info": {
   "codemirror_mode": {
    "name": "ipython",
    "version": 3
   },
   "file_extension": ".py",
   "mimetype": "text/x-python",
   "name": "python",
   "nbconvert_exporter": "python",
   "pygments_lexer": "ipython3",
   "version": "3.8.5"
  }
 },
 "nbformat": 4,
 "nbformat_minor": 4
}
