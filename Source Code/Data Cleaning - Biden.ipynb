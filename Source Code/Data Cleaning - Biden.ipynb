{
 "cells": [
  {
   "cell_type": "code",
   "execution_count": 186,
   "metadata": {},
   "outputs": [],
   "source": [
    "import pandas as pd\n",
    "import numpy as np\n",
    "from nltk.tokenize import word_tokenize\n",
    "import nltk\n",
    "from nltk.stem import \tWordNetLemmatizer\n",
    "import spacy\n",
    "import re"
   ]
  },
  {
   "cell_type": "code",
   "execution_count": 173,
   "metadata": {},
   "outputs": [],
   "source": [
    "b_1024 = pd.read_csv('Biden/1024b.csv', usecols=['date', 'tweet', 'username','user_id_str','language'])"
   ]
  },
  {
   "cell_type": "code",
   "execution_count": 174,
   "metadata": {},
   "outputs": [
    {
     "data": {
      "text/html": [
       "<div>\n",
       "<style scoped>\n",
       "    .dataframe tbody tr th:only-of-type {\n",
       "        vertical-align: middle;\n",
       "    }\n",
       "\n",
       "    .dataframe tbody tr th {\n",
       "        vertical-align: top;\n",
       "    }\n",
       "\n",
       "    .dataframe thead th {\n",
       "        text-align: right;\n",
       "    }\n",
       "</style>\n",
       "<table border=\"1\" class=\"dataframe\">\n",
       "  <thead>\n",
       "    <tr style=\"text-align: right;\">\n",
       "      <th></th>\n",
       "      <th>date</th>\n",
       "      <th>tweet</th>\n",
       "      <th>language</th>\n",
       "      <th>user_id_str</th>\n",
       "      <th>username</th>\n",
       "    </tr>\n",
       "  </thead>\n",
       "  <tbody>\n",
       "    <tr>\n",
       "      <th>0</th>\n",
       "      <td>2020-10-24 00:59:59</td>\n",
       "      <td>the dude got harassed from the biden ad with s...</td>\n",
       "      <td>en</td>\n",
       "      <td>1283380216711217153</td>\n",
       "      <td>VAMPREGRRRL</td>\n",
       "    </tr>\n",
       "    <tr>\n",
       "      <th>1</th>\n",
       "      <td>2020-10-24 00:59:59</td>\n",
       "      <td>@ferdalump My town is mainly supporters of the...</td>\n",
       "      <td>en</td>\n",
       "      <td>70012307</td>\n",
       "      <td>alyse3344</td>\n",
       "    </tr>\n",
       "    <tr>\n",
       "      <th>2</th>\n",
       "      <td>2020-10-24 00:59:59</td>\n",
       "      <td>@realDonaldTrump The Democrats have created a ...</td>\n",
       "      <td>en</td>\n",
       "      <td>15887769</td>\n",
       "      <td>upside</td>\n",
       "    </tr>\n",
       "    <tr>\n",
       "      <th>3</th>\n",
       "      <td>2020-10-24 00:59:59</td>\n",
       "      <td>@Ezequiasns @gazeta_brasil #Biden é o Lula ame...</td>\n",
       "      <td>pt</td>\n",
       "      <td>214561638</td>\n",
       "      <td>jczanluca</td>\n",
       "    </tr>\n",
       "    <tr>\n",
       "      <th>4</th>\n",
       "      <td>2020-10-24 00:59:58</td>\n",
       "      <td>@meenaharris @JoeBiden Ice cream, grilled chee...</td>\n",
       "      <td>en</td>\n",
       "      <td>106290019</td>\n",
       "      <td>buzzard6</td>\n",
       "    </tr>\n",
       "  </tbody>\n",
       "</table>\n",
       "</div>"
      ],
      "text/plain": [
       "                  date                                              tweet  \\\n",
       "0  2020-10-24 00:59:59  the dude got harassed from the biden ad with s...   \n",
       "1  2020-10-24 00:59:59  @ferdalump My town is mainly supporters of the...   \n",
       "2  2020-10-24 00:59:59  @realDonaldTrump The Democrats have created a ...   \n",
       "3  2020-10-24 00:59:59  @Ezequiasns @gazeta_brasil #Biden é o Lula ame...   \n",
       "4  2020-10-24 00:59:58  @meenaharris @JoeBiden Ice cream, grilled chee...   \n",
       "\n",
       "  language          user_id_str     username  \n",
       "0       en  1283380216711217153  VAMPREGRRRL  \n",
       "1       en             70012307    alyse3344  \n",
       "2       en             15887769       upside  \n",
       "3       pt            214561638    jczanluca  \n",
       "4       en            106290019     buzzard6  "
      ]
     },
     "execution_count": 174,
     "metadata": {},
     "output_type": "execute_result"
    }
   ],
   "source": [
    "b_1024.head()"
   ]
  },
  {
   "cell_type": "code",
   "execution_count": 175,
   "metadata": {},
   "outputs": [],
   "source": [
    "b_1025 = pd.read_csv('Biden/1025b.csv', usecols=['date', 'tweet', 'username','user_id_str','language'])\n",
    "b_1026 = pd.read_csv('Biden/1026b.csv', usecols=['date', 'tweet', 'username','user_id_str','language'])\n",
    "b_1027 = pd.read_csv('Biden/1027b.csv', usecols=['date', 'tweet', 'username','user_id_str','language'])\n",
    "b_1028 = pd.read_csv('Biden/1028b.csv', usecols=['date', 'tweet', 'username','user_id_str','language'])\n",
    "b_1029 = pd.read_csv('Biden/1029b.csv', usecols=['date', 'tweet', 'username','user_id_str','language'])\n",
    "b_1030 = pd.read_csv('Biden/1030b.csv', usecols=['date', 'tweet', 'username','user_id_str','language'])\n",
    "b_1031 = pd.read_csv('Biden/1031b.csv', usecols=['date', 'tweet', 'username','user_id_str','language'])\n",
    "b_1101 = pd.read_csv('Biden/1101b.csv', usecols=['date', 'tweet', 'username','user_id_str','language'])\n",
    "b_1102 = pd.read_csv('Biden/1102b.csv', usecols=['date', 'tweet', 'username','user_id_str','language'])\n",
    "b_1103 = pd.read_csv('Biden/1103b.csv', usecols=['date', 'tweet', 'username','user_id_str','language'])\n",
    "b_1104 = pd.read_csv('Biden/1104b.csv', usecols=['date', 'tweet', 'username','user_id_str','language'])\n",
    "b_1105 = pd.read_csv('Biden/1105b.csv', usecols=['date', 'tweet', 'username','user_id_str','language'])\n",
    "b_1106 = pd.read_csv('Biden/1106b.csv', usecols=['date', 'tweet', 'username','user_id_str','language'])\n",
    "b_1107 = pd.read_csv('Biden/1107b.csv', usecols=['date', 'tweet', 'username','user_id_str','language'])\n",
    "b_1108 = pd.read_csv('Biden/1108b.csv', usecols=['date', 'tweet', 'username','user_id_str','language'])\n",
    "b_1109 = pd.read_csv('Biden/1109b.csv', usecols=['date', 'tweet', 'username','user_id_str','language'])\n",
    "b_1110 = pd.read_csv('Biden/1110b.csv', usecols=['date', 'tweet', 'username','user_id_str','language'])\n",
    "b_1111 = pd.read_csv('Biden/1111b.csv', usecols=['date', 'tweet', 'username','user_id_str','language'])\n",
    "b_0106 =  pd.read_csv('Biden/0106b.csv', usecols=['date', 'tweet', 'username','user_id_str','language'])"
   ]
  },
  {
   "cell_type": "code",
   "execution_count": 176,
   "metadata": {},
   "outputs": [],
   "source": [
    "b_1112 = pd.read_csv('Biden/1112b.csv', usecols=['date', 'tweet', 'username','user_id_str','language'])\n",
    "b_1113 = pd.read_csv('Biden/1113b.csv', usecols=['date', 'tweet', 'username','user_id_str','language'])"
   ]
  },
  {
   "cell_type": "code",
   "execution_count": 177,
   "metadata": {},
   "outputs": [],
   "source": [
    "biden_tweets = pd.concat([b_1024, b_1025, b_1026,b_1027,b_1028,b_1029,b_1030,b_1031,b_1101,b_1102,b_1103,b_1104,b_1105,b_1106,b_1107,b_1108,b_1109, b_1110,b_1111,b_1112, b_1113,b_0106], ignore_index = True)"
   ]
  },
  {
   "cell_type": "code",
   "execution_count": 178,
   "metadata": {},
   "outputs": [],
   "source": [
    "#screen out all the English tweets\n",
    "biden_tweets = biden_tweets[biden_tweets['language']=='en']\n"
   ]
  },
  {
   "cell_type": "code",
   "execution_count": 179,
   "metadata": {},
   "outputs": [
    {
     "data": {
      "text/plain": [
       "19300"
      ]
     },
     "execution_count": 179,
     "metadata": {},
     "output_type": "execute_result"
    }
   ],
   "source": [
    "len(biden_tweets)"
   ]
  },
  {
   "cell_type": "code",
   "execution_count": 180,
   "metadata": {},
   "outputs": [],
   "source": [
    "#remove URL from tweets\n",
    "def remove_URL(sample):\n",
    "    \"\"\"Remove URLs from a sample string\"\"\"\n",
    "    return re.sub(r'http\\S+', '', sample)"
   ]
  },
  {
   "cell_type": "code",
   "execution_count": 183,
   "metadata": {},
   "outputs": [],
   "source": [
    "biden_tweets['tweet'] = biden_tweets['tweet'].map(lambda x: remove_URL(x))"
   ]
  },
  {
   "cell_type": "code",
   "execution_count": 184,
   "metadata": {},
   "outputs": [],
   "source": [
    "#convert to lowercases\n",
    "biden_tweets['tweet'] = biden_tweets['tweet'].str.lower()"
   ]
  },
  {
   "cell_type": "code",
   "execution_count": 185,
   "metadata": {},
   "outputs": [],
   "source": [
    "#replace all non-alphabetical character with whitespaces\n",
    "biden_tweets['tweet'] = biden_tweets['tweet'].str.replace(r'[^a-zA-Z]',' ')"
   ]
  },
  {
   "cell_type": "code",
   "execution_count": 187,
   "metadata": {},
   "outputs": [],
   "source": [
    "nlp = spacy.load('en_core_web_sm', disable = ['parser','ner'])"
   ]
  },
  {
   "cell_type": "code",
   "execution_count": 188,
   "metadata": {},
   "outputs": [],
   "source": [
    "#先lemmatize再token,因为nltk的lemmatize效果不好。\n",
    "#lemmatize\n",
    "biden_tweets['docs'] = biden_tweets['tweet'].map(lambda y: nlp(y))"
   ]
  },
  {
   "cell_type": "code",
   "execution_count": 189,
   "metadata": {},
   "outputs": [],
   "source": [
    "biden_tweets['lemmatization'] = biden_tweets['docs'].map(lambda z: \" \".join([word.lemma_ for word in z ]))"
   ]
  },
  {
   "cell_type": "code",
   "execution_count": 190,
   "metadata": {},
   "outputs": [
    {
     "data": {
      "text/plain": [
       "'boilermaker local      leader shawn steffee dispute joe biden s claim union leader call out biden for false endorsement claim    via   youtube'"
      ]
     },
     "execution_count": 190,
     "metadata": {},
     "output_type": "execute_result"
    }
   ],
   "source": [
    "biden_tweets['lemmatization'][40]"
   ]
  },
  {
   "cell_type": "code",
   "execution_count": 191,
   "metadata": {},
   "outputs": [],
   "source": [
    "#tokenize\n",
    "biden_tweets['s_token'] = biden_tweets['lemmatization'].map(lambda a:word_tokenize(a))"
   ]
  },
  {
   "cell_type": "code",
   "execution_count": 192,
   "metadata": {},
   "outputs": [
    {
     "data": {
      "text/plain": [
       "'boilermakers local     leader shawn steffee disputes joe biden s claim union leader calls out biden for false endorsement claim   via  youtube'"
      ]
     },
     "execution_count": 192,
     "metadata": {},
     "output_type": "execute_result"
    }
   ],
   "source": [
    "biden_tweets['tweet'][40]"
   ]
  },
  {
   "cell_type": "code",
   "execution_count": 193,
   "metadata": {},
   "outputs": [
    {
     "data": {
      "text/plain": [
       "['boilermaker',\n",
       " 'local',\n",
       " 'leader',\n",
       " 'shawn',\n",
       " 'steffee',\n",
       " 'dispute',\n",
       " 'joe',\n",
       " 'biden',\n",
       " 's',\n",
       " 'claim',\n",
       " 'union',\n",
       " 'leader',\n",
       " 'call',\n",
       " 'out',\n",
       " 'biden',\n",
       " 'for',\n",
       " 'false',\n",
       " 'endorsement',\n",
       " 'claim',\n",
       " 'via',\n",
       " 'youtube']"
      ]
     },
     "execution_count": 193,
     "metadata": {},
     "output_type": "execute_result"
    }
   ],
   "source": [
    "biden_tweets['s_token'][40]"
   ]
  },
  {
   "cell_type": "code",
   "execution_count": 194,
   "metadata": {},
   "outputs": [],
   "source": [
    "biden_tweets.to_csv('biden_cleaned_v1.csv')"
   ]
  },
  {
   "cell_type": "code",
   "execution_count": 195,
   "metadata": {},
   "outputs": [
    {
     "name": "stdout",
     "output_type": "stream",
     "text": [
      "Stored 'biden_tweets' (DataFrame)\n"
     ]
    }
   ],
   "source": [
    "%store biden_tweets"
   ]
  },
  {
   "cell_type": "code",
   "execution_count": null,
   "metadata": {},
   "outputs": [],
   "source": []
  }
 ],
 "metadata": {
  "kernelspec": {
   "display_name": "Python 3 (ipykernel)",
   "language": "python",
   "name": "python3"
  },
  "language_info": {
   "codemirror_mode": {
    "name": "ipython",
    "version": 3
   },
   "file_extension": ".py",
   "mimetype": "text/x-python",
   "name": "python",
   "nbconvert_exporter": "python",
   "pygments_lexer": "ipython3",
   "version": "3.8.5"
  }
 },
 "nbformat": 4,
 "nbformat_minor": 4
}
