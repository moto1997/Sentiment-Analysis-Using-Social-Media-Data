{
 "cells": [
  {
   "cell_type": "code",
   "execution_count": 1,
   "metadata": {},
   "outputs": [],
   "source": [
    "from nrclex import NRCLex"
   ]
  },
  {
   "cell_type": "code",
   "execution_count": 2,
   "metadata": {},
   "outputs": [],
   "source": [
    "import itertools"
   ]
  },
  {
   "cell_type": "code",
   "execution_count": 3,
   "metadata": {},
   "outputs": [],
   "source": [
    "import pandas as pd"
   ]
  },
  {
   "cell_type": "code",
   "execution_count": 4,
   "metadata": {},
   "outputs": [],
   "source": [
    "%store -r all_tweets"
   ]
  },
  {
   "cell_type": "code",
   "execution_count": 7,
   "metadata": {},
   "outputs": [
    {
     "data": {
      "text/html": [
       "<div>\n",
       "<style scoped>\n",
       "    .dataframe tbody tr th:only-of-type {\n",
       "        vertical-align: middle;\n",
       "    }\n",
       "\n",
       "    .dataframe tbody tr th {\n",
       "        vertical-align: top;\n",
       "    }\n",
       "\n",
       "    .dataframe thead th {\n",
       "        text-align: right;\n",
       "    }\n",
       "</style>\n",
       "<table border=\"1\" class=\"dataframe\">\n",
       "  <thead>\n",
       "    <tr style=\"text-align: right;\">\n",
       "      <th></th>\n",
       "      <th>index</th>\n",
       "      <th>date</th>\n",
       "      <th>tweet</th>\n",
       "      <th>language</th>\n",
       "      <th>user_id_str</th>\n",
       "      <th>username</th>\n",
       "      <th>docs</th>\n",
       "      <th>lemmatization</th>\n",
       "      <th>s_token</th>\n",
       "      <th>token</th>\n",
       "      <th>vader_tweets</th>\n",
       "      <th>sentiment</th>\n",
       "    </tr>\n",
       "  </thead>\n",
       "  <tbody>\n",
       "    <tr>\n",
       "      <th>0</th>\n",
       "      <td>0.0</td>\n",
       "      <td>2020-10-24</td>\n",
       "      <td>chikooslim i was thinking that since it was t...</td>\n",
       "      <td>en</td>\n",
       "      <td>18491914</td>\n",
       "      <td>slattfri</td>\n",
       "      <td>( , chikooslim, i, was, thinking, that, since,...</td>\n",
       "      <td>chikooslim I be think that since it be the d...</td>\n",
       "      <td>[chikooslim, I, be, think, that, since, it, be...</td>\n",
       "      <td>[chikooslim, I, think, since, daughter, refuse...</td>\n",
       "      <td>chikooslim I think since daughter refuse I ima...</td>\n",
       "      <td>Negative</td>\n",
       "    </tr>\n",
       "    <tr>\n",
       "      <th>1</th>\n",
       "      <td>1.0</td>\n",
       "      <td>2020-10-24</td>\n",
       "      <td>he s been saying that for four years   alllies...</td>\n",
       "      <td>en</td>\n",
       "      <td>46384399</td>\n",
       "      <td>francesmiddlet2</td>\n",
       "      <td>(he, s, been, saying, that, for, four, years, ...</td>\n",
       "      <td>he s be say that for four year    alllie   tru...</td>\n",
       "      <td>[he, s, be, say, that, for, four, year, alllie...</td>\n",
       "      <td>[say, four, year, alllie, trumplie, time, narc...</td>\n",
       "      <td>say four year alllie trumplie time narcissist ...</td>\n",
       "      <td>Neutral</td>\n",
       "    </tr>\n",
       "    <tr>\n",
       "      <th>2</th>\n",
       "      <td>2.0</td>\n",
       "      <td>2020-10-24</td>\n",
       "      <td>incredibly thought provoking article  make sur...</td>\n",
       "      <td>en</td>\n",
       "      <td>2902130034</td>\n",
       "      <td>mfly1971</td>\n",
       "      <td>(incredibly, thought, provoking, article,  , m...</td>\n",
       "      <td>incredibly think provoke article   make sure y...</td>\n",
       "      <td>[incredibly, think, provoke, article, make, su...</td>\n",
       "      <td>[incredibly, think, provoke, article, make, su...</td>\n",
       "      <td>incredibly think provoke article make sure rea...</td>\n",
       "      <td>Neutral</td>\n",
       "    </tr>\n",
       "    <tr>\n",
       "      <th>3</th>\n",
       "      <td>3.0</td>\n",
       "      <td>2020-10-24</td>\n",
       "      <td>diadexxus  tugrik it was  but that s not sayi...</td>\n",
       "      <td>en</td>\n",
       "      <td>15608869</td>\n",
       "      <td>Ryu_Raccoon</td>\n",
       "      <td>( , diadexxus,  , tugrik, it, was,  , but, tha...</td>\n",
       "      <td>diadexxus   tugrik it be   but that s not sa...</td>\n",
       "      <td>[diadexxus, tugrik, it, be, but, that, s, not,...</td>\n",
       "      <td>[diadexxus, tugrik, say, much, hard, get, bad,...</td>\n",
       "      <td>diadexxus tugrik say much hard get bad first o...</td>\n",
       "      <td>Negative</td>\n",
       "    </tr>\n",
       "    <tr>\n",
       "      <th>4</th>\n",
       "      <td>4.0</td>\n",
       "      <td>2020-10-24</td>\n",
       "      <td>don lemon meltdown over black trump support   ...</td>\n",
       "      <td>en</td>\n",
       "      <td>1216233063115395072</td>\n",
       "      <td>MackmanAce</td>\n",
       "      <td>(don, lemon, meltdown, over, black, trump, sup...</td>\n",
       "      <td>don lemon meltdown over black trump support   ...</td>\n",
       "      <td>[don, lemon, meltdown, over, black, trump, sup...</td>\n",
       "      <td>[lemon, meltdown, black, trump, support, via, ...</td>\n",
       "      <td>lemon meltdown black trump support via youtube...</td>\n",
       "      <td>Neutral</td>\n",
       "    </tr>\n",
       "  </tbody>\n",
       "</table>\n",
       "</div>"
      ],
      "text/plain": [
       "   index        date                                              tweet  \\\n",
       "0    0.0  2020-10-24   chikooslim i was thinking that since it was t...   \n",
       "1    1.0  2020-10-24  he s been saying that for four years   alllies...   \n",
       "2    2.0  2020-10-24  incredibly thought provoking article  make sur...   \n",
       "3    3.0  2020-10-24   diadexxus  tugrik it was  but that s not sayi...   \n",
       "4    4.0  2020-10-24  don lemon meltdown over black trump support   ...   \n",
       "\n",
       "  language          user_id_str         username  \\\n",
       "0       en             18491914         slattfri   \n",
       "1       en             46384399  francesmiddlet2   \n",
       "2       en           2902130034         mfly1971   \n",
       "3       en             15608869      Ryu_Raccoon   \n",
       "4       en  1216233063115395072       MackmanAce   \n",
       "\n",
       "                                                docs  \\\n",
       "0  ( , chikooslim, i, was, thinking, that, since,...   \n",
       "1  (he, s, been, saying, that, for, four, years, ...   \n",
       "2  (incredibly, thought, provoking, article,  , m...   \n",
       "3  ( , diadexxus,  , tugrik, it, was,  , but, tha...   \n",
       "4  (don, lemon, meltdown, over, black, trump, sup...   \n",
       "\n",
       "                                       lemmatization  \\\n",
       "0    chikooslim I be think that since it be the d...   \n",
       "1  he s be say that for four year    alllie   tru...   \n",
       "2  incredibly think provoke article   make sure y...   \n",
       "3    diadexxus   tugrik it be   but that s not sa...   \n",
       "4  don lemon meltdown over black trump support   ...   \n",
       "\n",
       "                                             s_token  \\\n",
       "0  [chikooslim, I, be, think, that, since, it, be...   \n",
       "1  [he, s, be, say, that, for, four, year, alllie...   \n",
       "2  [incredibly, think, provoke, article, make, su...   \n",
       "3  [diadexxus, tugrik, it, be, but, that, s, not,...   \n",
       "4  [don, lemon, meltdown, over, black, trump, sup...   \n",
       "\n",
       "                                               token  \\\n",
       "0  [chikooslim, I, think, since, daughter, refuse...   \n",
       "1  [say, four, year, alllie, trumplie, time, narc...   \n",
       "2  [incredibly, think, provoke, article, make, su...   \n",
       "3  [diadexxus, tugrik, say, much, hard, get, bad,...   \n",
       "4  [lemon, meltdown, black, trump, support, via, ...   \n",
       "\n",
       "                                        vader_tweets sentiment  \n",
       "0  chikooslim I think since daughter refuse I ima...  Negative  \n",
       "1  say four year alllie trumplie time narcissist ...   Neutral  \n",
       "2  incredibly think provoke article make sure rea...   Neutral  \n",
       "3  diadexxus tugrik say much hard get bad first o...  Negative  \n",
       "4  lemon meltdown black trump support via youtube...   Neutral  "
      ]
     },
     "execution_count": 7,
     "metadata": {},
     "output_type": "execute_result"
    }
   ],
   "source": [
    "all_tweets.head()"
   ]
  },
  {
   "cell_type": "code",
   "execution_count": 8,
   "metadata": {},
   "outputs": [],
   "source": [
    "NRC = all_tweets[['token','vader_tweets']]"
   ]
  },
  {
   "cell_type": "code",
   "execution_count": 9,
   "metadata": {},
   "outputs": [
    {
     "name": "stderr",
     "output_type": "stream",
     "text": [
      "/var/folders/qm/j2nyw_6j7272_3cq86kpw75r0000gn/T/ipykernel_21314/2566031846.py:1: SettingWithCopyWarning: \n",
      "A value is trying to be set on a copy of a slice from a DataFrame.\n",
      "Try using .loc[row_indexer,col_indexer] = value instead\n",
      "\n",
      "See the caveats in the documentation: https://pandas.pydata.org/pandas-docs/stable/user_guide/indexing.html#returning-a-view-versus-a-copy\n",
      "  NRC['NRC sentiment'] = NRC['vader_tweets'].apply(lambda x: NRCLex(x).top_emotions)\n"
     ]
    }
   ],
   "source": [
    "#find out the top emotions list\n",
    "NRC['NRC sentiment'] = NRC['vader_tweets'].apply(lambda x: NRCLex(x).top_emotions)"
   ]
  },
  {
   "cell_type": "code",
   "execution_count": 10,
   "metadata": {},
   "outputs": [],
   "source": [
    "#return the first emotion in the top emotion list\n",
    "def ComputeSentiment(l):\n",
    "    for item in l:\n",
    "        return item[0]"
   ]
  },
  {
   "cell_type": "code",
   "execution_count": 11,
   "metadata": {},
   "outputs": [
    {
     "name": "stderr",
     "output_type": "stream",
     "text": [
      "/var/folders/qm/j2nyw_6j7272_3cq86kpw75r0000gn/T/ipykernel_21314/3200716878.py:1: SettingWithCopyWarning: \n",
      "A value is trying to be set on a copy of a slice from a DataFrame.\n",
      "Try using .loc[row_indexer,col_indexer] = value instead\n",
      "\n",
      "See the caveats in the documentation: https://pandas.pydata.org/pandas-docs/stable/user_guide/indexing.html#returning-a-view-versus-a-copy\n",
      "  NRC['top sentiment'] = NRC['NRC sentiment'].apply(lambda x:ComputeSentiment(x))\n"
     ]
    }
   ],
   "source": [
    "NRC['top sentiment'] = NRC['NRC sentiment'].apply(lambda x:ComputeSentiment(x))"
   ]
  },
  {
   "cell_type": "code",
   "execution_count": 12,
   "metadata": {},
   "outputs": [],
   "source": [
    "final_nrc = NRC.dropna()"
   ]
  },
  {
   "cell_type": "code",
   "execution_count": 13,
   "metadata": {},
   "outputs": [
    {
     "data": {
      "text/html": [
       "<div>\n",
       "<style scoped>\n",
       "    .dataframe tbody tr th:only-of-type {\n",
       "        vertical-align: middle;\n",
       "    }\n",
       "\n",
       "    .dataframe tbody tr th {\n",
       "        vertical-align: top;\n",
       "    }\n",
       "\n",
       "    .dataframe thead th {\n",
       "        text-align: right;\n",
       "    }\n",
       "</style>\n",
       "<table border=\"1\" class=\"dataframe\">\n",
       "  <thead>\n",
       "    <tr style=\"text-align: right;\">\n",
       "      <th></th>\n",
       "      <th>token</th>\n",
       "      <th>vader_tweets</th>\n",
       "      <th>NRC sentiment</th>\n",
       "      <th>top sentiment</th>\n",
       "    </tr>\n",
       "  </thead>\n",
       "  <tbody>\n",
       "    <tr>\n",
       "      <th>0</th>\n",
       "      <td>[chikooslim, I, think, since, daughter, refuse...</td>\n",
       "      <td>chikooslim I think since daughter refuse I ima...</td>\n",
       "      <td>[(negative, 0.23076923076923078)]</td>\n",
       "      <td>negative</td>\n",
       "    </tr>\n",
       "    <tr>\n",
       "      <th>1</th>\n",
       "      <td>[say, four, year, alllie, trumplie, time, narc...</td>\n",
       "      <td>say four year alllie trumplie time narcissist ...</td>\n",
       "      <td>[(negative, 0.25), (sadness, 0.25)]</td>\n",
       "      <td>negative</td>\n",
       "    </tr>\n",
       "    <tr>\n",
       "      <th>2</th>\n",
       "      <td>[incredibly, think, provoke, article, make, su...</td>\n",
       "      <td>incredibly think provoke article make sure rea...</td>\n",
       "      <td>[(trust, 0.2), (surprise, 0.2), (positive, 0.2...</td>\n",
       "      <td>trust</td>\n",
       "    </tr>\n",
       "    <tr>\n",
       "      <th>3</th>\n",
       "      <td>[diadexxus, tugrik, say, much, hard, get, bad,...</td>\n",
       "      <td>diadexxus tugrik say much hard get bad first o...</td>\n",
       "      <td>[(anger, 0.23529411764705882), (negative, 0.23...</td>\n",
       "      <td>anger</td>\n",
       "    </tr>\n",
       "    <tr>\n",
       "      <th>4</th>\n",
       "      <td>[lemon, meltdown, black, trump, support, via, ...</td>\n",
       "      <td>lemon meltdown black trump support via youtube...</td>\n",
       "      <td>[(negative, 0.42857142857142855)]</td>\n",
       "      <td>negative</td>\n",
       "    </tr>\n",
       "  </tbody>\n",
       "</table>\n",
       "</div>"
      ],
      "text/plain": [
       "                                               token  \\\n",
       "0  [chikooslim, I, think, since, daughter, refuse...   \n",
       "1  [say, four, year, alllie, trumplie, time, narc...   \n",
       "2  [incredibly, think, provoke, article, make, su...   \n",
       "3  [diadexxus, tugrik, say, much, hard, get, bad,...   \n",
       "4  [lemon, meltdown, black, trump, support, via, ...   \n",
       "\n",
       "                                        vader_tweets  \\\n",
       "0  chikooslim I think since daughter refuse I ima...   \n",
       "1  say four year alllie trumplie time narcissist ...   \n",
       "2  incredibly think provoke article make sure rea...   \n",
       "3  diadexxus tugrik say much hard get bad first o...   \n",
       "4  lemon meltdown black trump support via youtube...   \n",
       "\n",
       "                                       NRC sentiment top sentiment  \n",
       "0                  [(negative, 0.23076923076923078)]      negative  \n",
       "1                [(negative, 0.25), (sadness, 0.25)]      negative  \n",
       "2  [(trust, 0.2), (surprise, 0.2), (positive, 0.2...         trust  \n",
       "3  [(anger, 0.23529411764705882), (negative, 0.23...         anger  \n",
       "4                  [(negative, 0.42857142857142855)]      negative  "
      ]
     },
     "execution_count": 13,
     "metadata": {},
     "output_type": "execute_result"
    }
   ],
   "source": [
    "final_nrc.reset_index(inplace=True)\n",
    "final_nrc.drop(columns=['index'],inplace=True)\n",
    "final_nrc.head()"
   ]
  },
  {
   "cell_type": "code",
   "execution_count": 14,
   "metadata": {},
   "outputs": [
    {
     "name": "stdout",
     "output_type": "stream",
     "text": [
      "Stored 'final_nrc' (DataFrame)\n"
     ]
    }
   ],
   "source": [
    "%store final_nrc"
   ]
  },
  {
   "cell_type": "code",
   "execution_count": 15,
   "metadata": {},
   "outputs": [
    {
     "name": "stdout",
     "output_type": "stream",
     "text": [
      "Stored 'NRC' (DataFrame)\n"
     ]
    }
   ],
   "source": [
    "%store NRC"
   ]
  },
  {
   "cell_type": "code",
   "execution_count": 16,
   "metadata": {},
   "outputs": [
    {
     "data": {
      "text/plain": [
       "51915"
      ]
     },
     "execution_count": 16,
     "metadata": {},
     "output_type": "execute_result"
    }
   ],
   "source": [
    "len(final_nrc)"
   ]
  },
  {
   "cell_type": "code",
   "execution_count": 17,
   "metadata": {},
   "outputs": [],
   "source": [
    "#count the sentiments\n",
    "final_nrc['count']  = 1"
   ]
  },
  {
   "cell_type": "code",
   "execution_count": 18,
   "metadata": {},
   "outputs": [],
   "source": [
    "nrc_vis = final_nrc.groupby('top sentiment').sum()"
   ]
  },
  {
   "cell_type": "code",
   "execution_count": 19,
   "metadata": {},
   "outputs": [
    {
     "data": {
      "text/html": [
       "<div>\n",
       "<style scoped>\n",
       "    .dataframe tbody tr th:only-of-type {\n",
       "        vertical-align: middle;\n",
       "    }\n",
       "\n",
       "    .dataframe tbody tr th {\n",
       "        vertical-align: top;\n",
       "    }\n",
       "\n",
       "    .dataframe thead th {\n",
       "        text-align: right;\n",
       "    }\n",
       "</style>\n",
       "<table border=\"1\" class=\"dataframe\">\n",
       "  <thead>\n",
       "    <tr style=\"text-align: right;\">\n",
       "      <th></th>\n",
       "      <th>count</th>\n",
       "    </tr>\n",
       "    <tr>\n",
       "      <th>top sentiment</th>\n",
       "      <th></th>\n",
       "    </tr>\n",
       "  </thead>\n",
       "  <tbody>\n",
       "    <tr>\n",
       "      <th>anger</th>\n",
       "      <td>3941</td>\n",
       "    </tr>\n",
       "    <tr>\n",
       "      <th>anticipation</th>\n",
       "      <td>1997</td>\n",
       "    </tr>\n",
       "    <tr>\n",
       "      <th>disgust</th>\n",
       "      <td>48</td>\n",
       "    </tr>\n",
       "    <tr>\n",
       "      <th>fear</th>\n",
       "      <td>9613</td>\n",
       "    </tr>\n",
       "    <tr>\n",
       "      <th>joy</th>\n",
       "      <td>5</td>\n",
       "    </tr>\n",
       "    <tr>\n",
       "      <th>negative</th>\n",
       "      <td>7028</td>\n",
       "    </tr>\n",
       "    <tr>\n",
       "      <th>positive</th>\n",
       "      <td>9158</td>\n",
       "    </tr>\n",
       "    <tr>\n",
       "      <th>sadness</th>\n",
       "      <td>157</td>\n",
       "    </tr>\n",
       "    <tr>\n",
       "      <th>surprise</th>\n",
       "      <td>8835</td>\n",
       "    </tr>\n",
       "    <tr>\n",
       "      <th>trust</th>\n",
       "      <td>11133</td>\n",
       "    </tr>\n",
       "  </tbody>\n",
       "</table>\n",
       "</div>"
      ],
      "text/plain": [
       "               count\n",
       "top sentiment       \n",
       "anger           3941\n",
       "anticipation    1997\n",
       "disgust           48\n",
       "fear            9613\n",
       "joy                5\n",
       "negative        7028\n",
       "positive        9158\n",
       "sadness          157\n",
       "surprise        8835\n",
       "trust          11133"
      ]
     },
     "execution_count": 19,
     "metadata": {},
     "output_type": "execute_result"
    }
   ],
   "source": [
    "nrc_vis"
   ]
  },
  {
   "cell_type": "code",
   "execution_count": 20,
   "metadata": {},
   "outputs": [
    {
     "data": {
      "text/plain": [
       "['anger',\n",
       " 'anticipation',\n",
       " 'disgust',\n",
       " 'fear',\n",
       " 'joy',\n",
       " 'negative',\n",
       " 'positive',\n",
       " 'sadness',\n",
       " 'surprise',\n",
       " 'trust']"
      ]
     },
     "execution_count": 20,
     "metadata": {},
     "output_type": "execute_result"
    }
   ],
   "source": [
    "#check the sentiment types in NRC Lexicon\n",
    "list(nrc_vis.index)"
   ]
  },
  {
   "cell_type": "code",
   "execution_count": 21,
   "metadata": {},
   "outputs": [],
   "source": [
    "import numpy as np\n",
    "import matplotlib.pyplot as plt"
   ]
  },
  {
   "cell_type": "code",
   "execution_count": 23,
   "metadata": {},
   "outputs": [
    {
     "data": {
      "image/png": "[encoded data removed]",
      "text/plain": [
       "<Figure size 1008x1080 with 1 Axes>"
      ]
     },
     "metadata": {},
     "output_type": "display_data"
    }
   ],
   "source": [
    "#visualization\n",
    "data = np.array(list(nrc_vis['count']))\n",
    "label = list(nrc_vis.index)\n",
    "plt.figure(figsize=(14,15))\n",
    "plt.pie(data, labels = label,autopct='%1.2f%%')\n",
    "circle = plt.Circle( (0,0), 0.7, color='white')\n",
    "p=plt.gcf()\n",
    "p.gca().add_artist(circle)\n",
    "plt.legend(loc = 'best')\n",
    "#plt.show()\n",
    "plt.title('Sentiment proportion of collected tweets based on NRC lexicon')\n",
    "plt.savefig('plots/NRC sentiment proportion.jpg')"
   ]
  },
  {
   "cell_type": "code",
   "execution_count": 24,
   "metadata": {},
   "outputs": [
    {
     "name": "stdout",
     "output_type": "stream",
     "text": [
      "Stored 'nrc_vis' (DataFrame)\n"
     ]
    }
   ],
   "source": [
    "%store nrc_vis"
   ]
  },
  {
   "cell_type": "code",
   "execution_count": null,
   "metadata": {},
   "outputs": [],
   "source": []
  },
  {
   "cell_type": "code",
   "execution_count": null,
   "metadata": {},
   "outputs": [],
   "source": []
  }
 ],
 "metadata": {
  "kernelspec": {
   "display_name": "Python 3 (ipykernel)",
   "language": "python",
   "name": "python3"
  },
  "language_info": {
   "codemirror_mode": {
    "name": "ipython",
    "version": 3
   },
   "file_extension": ".py",
   "mimetype": "text/x-python",
   "name": "python",
   "nbconvert_exporter": "python",
   "pygments_lexer": "ipython3",
   "version": "3.8.5"
  }
 },
 "nbformat": 4,
 "nbformat_minor": 4
}
